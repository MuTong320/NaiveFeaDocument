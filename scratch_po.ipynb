{
 "cells": [
  {
   "cell_type": "code",
   "execution_count": 1,
   "metadata": {},
   "outputs": [],
   "source": [
    "import matplotlib.pyplot as plt\n",
    "import numpy as np\n",
    "import pygmsh\n",
    "from scipy.interpolate import griddata"
   ]
  },
  {
   "cell_type": "markdown",
   "metadata": {},
   "source": [
    "生成网格"
   ]
  },
  {
   "cell_type": "code",
   "execution_count": 2,
   "metadata": {},
   "outputs": [],
   "source": [
    "with pygmsh.geo.Geometry() as geom:\n",
    "    geom.add_polygon(\n",
    "        [\n",
    "            [0.0, 0.0],\n",
    "            [1.0, 0.0],\n",
    "            [1.0, 1.0],\n",
    "            [0.0, 1.0],\n",
    "        ],\n",
    "        mesh_size=0.5,\n",
    "    )\n",
    "    mesh = geom.generate_mesh()"
   ]
  },
  {
   "cell_type": "markdown",
   "metadata": {},
   "source": [
    "展示节点数据"
   ]
  },
  {
   "cell_type": "code",
   "execution_count": 3,
   "metadata": {},
   "outputs": [
    {
     "data": {
      "text/plain": [
       "{}"
      ]
     },
     "execution_count": 3,
     "metadata": {},
     "output_type": "execute_result"
    }
   ],
   "source": [
    "mesh.point_data"
   ]
  },
  {
   "cell_type": "code",
   "execution_count": 4,
   "metadata": {},
   "outputs": [
    {
     "data": {
      "text/plain": [
       "array([[0.        , 0.        , 0.        ],\n",
       "       [1.        , 0.        , 0.        ],\n",
       "       [1.        , 1.        , 0.        ],\n",
       "       [0.        , 1.        , 0.        ],\n",
       "       [0.5       , 0.        , 0.        ],\n",
       "       [1.        , 0.5       , 0.        ],\n",
       "       [0.5       , 1.        , 0.        ],\n",
       "       [0.        , 0.5       , 0.        ],\n",
       "       [0.29375   , 0.70625   , 0.        ],\n",
       "       [0.375     , 0.375     , 0.        ],\n",
       "       [0.64791667, 0.64375   , 0.        ],\n",
       "       [0.71875   , 0.28125   , 0.        ]])"
      ]
     },
     "execution_count": 4,
     "metadata": {},
     "output_type": "execute_result"
    }
   ],
   "source": [
    "nodes=mesh.points\n",
    "nodes"
   ]
  },
  {
   "cell_type": "code",
   "execution_count": 5,
   "metadata": {},
   "outputs": [
    {
     "data": {
      "text/plain": [
       "<matplotlib.collections.PathCollection at 0x27cc70a7400>"
      ]
     },
     "execution_count": 5,
     "metadata": {},
     "output_type": "execute_result"
    },
    {
     "data": {
      "image/png": "[encoded data removed]",
      "text/plain": [
       "<Figure size 432x288 with 1 Axes>"
      ]
     },
     "metadata": {
      "needs_background": "light"
     },
     "output_type": "display_data"
    }
   ],
   "source": [
    "plt.scatter(mesh.points.T[0],mesh.points.T[1])"
   ]
  },
  {
   "cell_type": "markdown",
   "metadata": {},
   "source": [
    "展示网格"
   ]
  },
  {
   "cell_type": "code",
   "execution_count": 6,
   "metadata": {},
   "outputs": [
    {
     "data": {
      "text/plain": [
       "<bound method Mesh.get_cell_data of <meshio mesh object>\n",
       "  Number of points: 12\n",
       "  Number of cells:\n",
       "    line: 8\n",
       "    triangle: 14\n",
       "    vertex: 4>"
      ]
     },
     "execution_count": 6,
     "metadata": {},
     "output_type": "execute_result"
    }
   ],
   "source": [
    "mesh.get_cell_data"
   ]
  },
  {
   "cell_type": "code",
   "execution_count": 7,
   "metadata": {},
   "outputs": [
    {
     "data": {
      "text/plain": [
       "array([[ 5,  2, 10],\n",
       "       [ 7,  0,  9],\n",
       "       [ 0,  4,  9],\n",
       "       [ 2,  6, 10],\n",
       "       [ 4,  1, 11],\n",
       "       [ 1,  5, 11],\n",
       "       [ 6,  3,  8],\n",
       "       [ 3,  7,  8],\n",
       "       [ 5, 10, 11],\n",
       "       [ 8,  7,  9],\n",
       "       [ 8,  9, 10],\n",
       "       [ 9,  4, 11],\n",
       "       [10,  9, 11],\n",
       "       [ 6,  8, 10]], dtype=uint64)"
      ]
     },
     "execution_count": 7,
     "metadata": {},
     "output_type": "execute_result"
    }
   ],
   "source": [
    "mesh.cells_dict['triangle']"
   ]
  },
  {
   "cell_type": "code",
   "execution_count": 8,
   "metadata": {},
   "outputs": [],
   "source": [
    "elements=mesh.cells_dict['triangle']"
   ]
  },
  {
   "cell_type": "code",
   "execution_count": 9,
   "metadata": {},
   "outputs": [],
   "source": [
    "E=10.0\n",
    "nv=0.3\n",
    "D=E/((1.0+nv)*(1.0-2*nv))*np.array([\\\n",
    "    [1.0-nv,nv,0.0], \n",
    "    [nv,1.0-nv,0.0], \n",
    "    [0.0,0.0,0.5-nv]])"
   ]
  },
  {
   "cell_type": "code",
   "execution_count": 10,
   "metadata": {},
   "outputs": [],
   "source": [
    "len_global=2*len(nodes)"
   ]
  },
  {
   "cell_type": "code",
   "execution_count": 11,
   "metadata": {},
   "outputs": [],
   "source": [
    "K=np.zeros((len_global,len_global))"
   ]
  },
  {
   "cell_type": "code",
   "execution_count": 12,
   "metadata": {},
   "outputs": [],
   "source": [
    "for element in elements:\n",
    "    x0=nodes[element[0]][0]\n",
    "    y0=nodes[element[0]][1]\n",
    "    x1=nodes[element[1]][0]\n",
    "    y1=nodes[element[1]][1]\n",
    "    x2=nodes[element[2]][0]\n",
    "    y2=nodes[element[2]][1]\n",
    "    area_2=np.linalg.det(np.array([\\\n",
    "        [1.0,x0,y0], \n",
    "        [1.0,x1,y1], \n",
    "        [1.0,x2,y2]]))\n",
    "    B=1/area_2*np.array([\\\n",
    "        [y1-y2,0.0,y2-y0,0.0,y0-y1,0.0], \n",
    "        [0.0,x2-x1,0.0,x0-x2,0.0,x1-x0], \n",
    "        [x2-x1,y1-y2,x0-x2,y2-y0,x1-x0,y0-y1]])\n",
    "    K_element=area_2*B.T@D@B\n",
    "    deform_global_index=np.array([[2*element[i],2*element[i]+1] for i in range(3)],dtype=np.uint64).reshape(-1)\n",
    "    for i_local,i_global in enumerate(deform_global_index):\n",
    "        for j_local,j_global in enumerate(deform_global_index):\n",
    "            K[i_global,j_global]+=K_element[i_local,j_local]"
   ]
  },
  {
   "cell_type": "code",
   "execution_count": 13,
   "metadata": {},
   "outputs": [],
   "source": [
    "def get_position_local(element):\n",
    "    x0=nodes[element[0]][0]\n",
    "    y0=nodes[element[0]][1]\n",
    "    x1=nodes[element[1]][0]\n",
    "    y1=nodes[element[1]][1]\n",
    "    x2=nodes[element[2]][0]\n",
    "    y2=nodes[element[2]][1]\n",
    "    return x0,y0,x1,y1,x2,y2"
   ]
  },
  {
   "cell_type": "code",
   "execution_count": 14,
   "metadata": {},
   "outputs": [],
   "source": [
    "def det_B(x0,y0,x1,y1,x2,y2):\n",
    "    matrix=np.array([\\\n",
    "        [1.0,x0,y0], \n",
    "        [1.0,x1,y1], \n",
    "        [1.0,x2,y2]])\n",
    "    det=np.linalg.det(matrix)\n",
    "    return abs(det)"
   ]
  },
  {
   "cell_type": "code",
   "execution_count": 15,
   "metadata": {},
   "outputs": [],
   "source": [
    "def b_matrix(x0,y0,x1,y1,x2,y2,area_2):\n",
    "    return 1/area_2*np.array([\\\n",
    "        [y1-y2,0.0,y2-y0,0.0,y0-y1,0.0], \n",
    "        [0.0,x2-x1,0.0,x0-x2,0.0,x1-x0], \n",
    "        [x2-x1,y1-y2,x0-x2,y2-y0,x1-x0,y0-y1]])"
   ]
  },
  {
   "cell_type": "code",
   "execution_count": 16,
   "metadata": {},
   "outputs": [],
   "source": [
    "def element_integrate(B,D,area_2):\n",
    "    return area_2*B.T@D@B"
   ]
  },
  {
   "cell_type": "code",
   "execution_count": 17,
   "metadata": {},
   "outputs": [],
   "source": [
    "def Ke2K(element,K_element,K):\n",
    "    deform_global_index=np.array([[2*element[i],2*element[i]+1] for i in range(3)],dtype=np.uint64).reshape(-1)\n",
    "    for i_local,i_global in enumerate(deform_global_index):\n",
    "        for j_local,j_global in enumerate(deform_global_index):\n",
    "            K[i_global,j_global]+=K_element[i_local,j_local]"
   ]
  },
  {
   "cell_type": "code",
   "execution_count": 18,
   "metadata": {},
   "outputs": [],
   "source": [
    "for element in elements:\n",
    "    # calculate stiffness of element\n",
    "    x0,y0,x1,y1,x2,y2=get_position_local(element)\n",
    "    area_2=det_B(x0,y0,x1,y1,x2,y2)\n",
    "    B=b_matrix(x0,y0,x1,y1,x2,y2,area_2)\n",
    "    K_element=element_integrate(B,D,area_2)\n",
    "    # add local Ke into global K\n",
    "    Ke2K(element,K_element,K)"
   ]
  },
  {
   "cell_type": "code",
   "execution_count": 19,
   "metadata": {},
   "outputs": [],
   "source": [
    "# interface\n",
    "x_fix={}\n",
    "y_fix={}\n",
    "f_given={}\n",
    "for index,position in enumerate(nodes):\n",
    "    x=position[0].tolist()\n",
    "    if x<1e-6:\n",
    "        x_fix.update({index:0.0})\n",
    "        y_fix.update({index:0.0})\n",
    "    if 1.0-x<1e-6:\n",
    "        f_given.update({index:(1.0,0.0)})"
   ]
  },
  {
   "cell_type": "code",
   "execution_count": 20,
   "metadata": {},
   "outputs": [],
   "source": [
    "deform_free_index=[]\n",
    "for node,_ in enumerate(nodes):\n",
    "    if node not in x_fix:\n",
    "        deform_free_index.append(2*node)\n",
    "    if node not in y_fix:\n",
    "        deform_free_index.append(2*node+1)\n",
    "len_reduce=len(deform_free_index)"
   ]
  },
  {
   "cell_type": "code",
   "execution_count": 21,
   "metadata": {},
   "outputs": [],
   "source": [
    "deform=np.zeros(len_global)\n",
    "force=np.zeros(len_global)\n",
    "for node in x_fix:\n",
    "    deform[2*node]=x_fix[node]\n",
    "for node in y_fix:\n",
    "    deform[2*node+1]=y_fix[node]\n",
    "for node in f_given:\n",
    "    force[2*node]=f_given[node][0]\n",
    "    force[2*node+1]=f_given[node][1]"
   ]
  },
  {
   "cell_type": "code",
   "execution_count": 22,
   "metadata": {},
   "outputs": [],
   "source": [
    "deform_reduce=np.zeros(len_reduce)\n",
    "force_reduce=np.zeros(len_reduce)"
   ]
  },
  {
   "cell_type": "code",
   "execution_count": 23,
   "metadata": {},
   "outputs": [],
   "source": [
    "K_reduce=np.zeros((len_reduce,len_reduce))\n",
    "for i_reduce,i_global in enumerate(deform_free_index):\n",
    "    for j_reduce,j_global in enumerate(deform_free_index):\n",
    "        K_reduce[i_reduce,j_reduce]=K[i_global,j_global]\n",
    "for i_reduce,i_global in enumerate(deform_free_index):\n",
    "    force_reduce[i_reduce]=force[i_global]"
   ]
  },
  {
   "cell_type": "code",
   "execution_count": 24,
   "metadata": {},
   "outputs": [],
   "source": [
    "deform_reduce=np.linalg.solve(K_reduce,force_reduce)"
   ]
  },
  {
   "cell_type": "code",
   "execution_count": 25,
   "metadata": {},
   "outputs": [],
   "source": [
    "for i_reduce,i_global in enumerate(deform_free_index):\n",
    "    deform[i_global]=deform_reduce[i_reduce]"
   ]
  },
  {
   "cell_type": "code",
   "execution_count": 26,
   "metadata": {},
   "outputs": [],
   "source": [
    "force=K@deform"
   ]
  },
  {
   "cell_type": "code",
   "execution_count": 27,
   "metadata": {},
   "outputs": [
    {
     "data": {
      "text/plain": [
       "[2, 3, 4, 5, 8, 9, 10, 11, 12, 13, 16, 17, 18, 19, 20, 21, 22, 23]"
      ]
     },
     "execution_count": 27,
     "metadata": {},
     "output_type": "execute_result"
    }
   ],
   "source": [
    "deform_free_index"
   ]
  },
  {
   "cell_type": "code",
   "execution_count": 28,
   "metadata": {},
   "outputs": [
    {
     "data": {
      "text/plain": [
       "array([[ 0.        ,  0.        ],\n",
       "       [ 0.07982204,  0.02095777],\n",
       "       [ 0.0784962 , -0.02077183],\n",
       "       [ 0.        ,  0.        ],\n",
       "       [ 0.03425474,  0.0116895 ],\n",
       "       [ 0.05178067, -0.00104916],\n",
       "       [ 0.03587384, -0.01297189],\n",
       "       [ 0.        ,  0.        ],\n",
       "       [ 0.01532955, -0.00202707],\n",
       "       [ 0.02033915,  0.00190167],\n",
       "       [ 0.03608933, -0.00272211],\n",
       "       [ 0.04310374,  0.00382737]])"
      ]
     },
     "execution_count": 28,
     "metadata": {},
     "output_type": "execute_result"
    }
   ],
   "source": [
    "deform.reshape(len_global//2,2)"
   ]
  },
  {
   "cell_type": "code",
   "execution_count": 29,
   "metadata": {},
   "outputs": [],
   "source": [
    "def get_strain(deform_local):\n",
    "    return B@deform_local\n",
    "def get_stress(deform_local):\n",
    "    return D@B@deform_local"
   ]
  },
  {
   "cell_type": "code",
   "execution_count": 30,
   "metadata": {},
   "outputs": [],
   "source": [
    "def get_deform(element):\n",
    "    n0=element[0].tolist()\n",
    "    n1=element[1].tolist()\n",
    "    n2=element[2].tolist()\n",
    "    u0=deform[2*n0]\n",
    "    v0=deform[2*n0+1]\n",
    "    u1=deform[2*n1]\n",
    "    v1=deform[2*n1+1]\n",
    "    u2=deform[2*n2]\n",
    "    v2=deform[2*n2+1]\n",
    "    return u0,v0,u1,v1,u2,v2"
   ]
  },
  {
   "cell_type": "code",
   "execution_count": 31,
   "metadata": {},
   "outputs": [],
   "source": [
    "def center_point(x0,y0,x1,y1,x2,y2):\n",
    "    x=(x0+x1+x2)/3.0\n",
    "    y=(y0+y1+y2)/3.0\n",
    "    return [x,y]"
   ]
  },
  {
   "cell_type": "code",
   "execution_count": 32,
   "metadata": {},
   "outputs": [],
   "source": [
    "show_data={'position':{'x':[],'y':[]},'strain':{'e11':[],'e22':[],'e12':[]},'stress':{'S11':[],'S22':[],'S12':[]}}\n",
    "for element in elements:\n",
    "    x0,y0,x1,y1,x2,y2=get_position_local(element)\n",
    "    position_element=center_point(x0,y0,x1,y1,x2,y2)\n",
    "    deform_local=get_deform(element)\n",
    "    strain=get_strain(deform_local)\n",
    "    stress=get_stress(deform_local)\n",
    "    show_data['position']['x'].append(position_element[0])\n",
    "    show_data['position']['y'].append(position_element[1])\n",
    "    for i,name in enumerate(('e11','e22','e12')):\n",
    "        show_data['strain'][name].append(strain[i])\n",
    "    for i,name in enumerate(('S11','S22','S12')):\n",
    "        show_data['stress'][name].append(stress[i])"
   ]
  },
  {
   "cell_type": "code",
   "execution_count": 33,
   "metadata": {},
   "outputs": [
    {
     "name": "stderr",
     "output_type": "stream",
     "text": [
      "C:\\Users\\MuTong\\AppData\\Local\\Temp/ipykernel_7816/3417120346.py:7: MatplotlibDeprecationWarning: shading='flat' when X and Y have the same dimensions as C is deprecated since 3.3.  Either specify the corners of the quadrilaterals with X and Y, or pass shading='auto', 'nearest' or 'gouraud', or set rcParams['pcolor.shading'].  This will become an error two minor releases later.\n",
      "  ax.pcolormesh(grid_x,grid_y,z)\n"
     ]
    },
    {
     "data": {
      "text/plain": [
       "<matplotlib.collections.QuadMesh at 0x27cc69868e0>"
      ]
     },
     "execution_count": 33,
     "metadata": {},
     "output_type": "execute_result"
    },
    {
     "data": {
      "image/png": "[encoded data removed]",
      "text/plain": [
       "<Figure size 432x288 with 1 Axes>"
      ]
     },
     "metadata": {
      "needs_background": "light"
     },
     "output_type": "display_data"
    }
   ],
   "source": [
    "points=np.array([show_data['position']['x'],show_data['position']['y']]).T\n",
    "values=show_data['stress']['S11']\n",
    "grid_x, grid_y = np.mgrid[0:1:100j, 0:1:100j]\n",
    "z=griddata(points, values, (grid_x, grid_y), method='nearest')\n",
    "\n",
    "fig, ax = plt.subplots()\n",
    "ax.pcolormesh(grid_x,grid_y,z)"
   ]
  }
 ],
 "metadata": {
  "interpreter": {
   "hash": "6b7fcde512a371fc80168da418ac10d3d117615124c98713c183be837caaa7d9"
  },
  "kernelspec": {
   "display_name": "Python 3.9.7 64-bit ('torch': conda)",
   "name": "python3"
  },
  "language_info": {
   "codemirror_mode": {
    "name": "ipython",
    "version": 3
   },
   "file_extension": ".py",
   "mimetype": "text/x-python",
   "name": "python",
   "nbconvert_exporter": "python",
   "pygments_lexer": "ipython3",
   "version": "3.9.7"
  },
  "orig_nbformat": 4
 },
 "nbformat": 4,
 "nbformat_minor": 2
}
