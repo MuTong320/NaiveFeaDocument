{
 "cells": [
  {
   "cell_type": "markdown",
   "metadata": {},
   "source": [
    "# 面向过程的有限元编程"
   ]
  },
  {
   "cell_type": "markdown",
   "metadata": {},
   "source": [
    "我们首先将前几节的代码汇总一下，并将其分为三个部分：有限元前处理、有限元求解器和有限元后处理。"
   ]
  },
  {
   "cell_type": "markdown",
   "metadata": {},
   "source": [
    "有限元前处理（由用户输入）："
   ]
  },
  {
   "cell_type": "code",
   "execution_count": 23,
   "metadata": {},
   "outputs": [],
   "source": [
    "import numpy as np\n",
    "import pygmsh\n",
    "\n",
    "# 定义网格\n",
    "with pygmsh.geo.Geometry() as geom:\n",
    "    geom.add_polygon([[0.0, 0.0],[1.0, 0.0],[1.0, 1.0],[0.0, 1.0],],mesh_size=0.5,)\n",
    "    mesh = geom.generate_mesh()\n",
    "nodes=mesh.points\n",
    "elements=mesh.cells_dict['triangle']\n",
    "\n",
    "# 定义材料\n",
    "E=10.0\n",
    "nv=0.3\n",
    "\n",
    "# 定义载荷\n",
    "x_fix={0:0.0,2:0.0,3:0.0}\n",
    "y_fix={0:0.0,2:0.0,3:0.0}\n",
    "f_given={5:(1.0,0.0)}"
   ]
  },
  {
   "cell_type": "markdown",
   "metadata": {},
   "source": [
    "有限元求解器："
   ]
  },
  {
   "cell_type": "code",
   "execution_count": 24,
   "metadata": {},
   "outputs": [],
   "source": [
    "# 第一步\n",
    "# 材料本构：刚度矩阵（和切向刚度矩阵）\n",
    "D=E/(1.0-nv**2)*np.array([\n",
    "    [1.0,nv,0.0], \n",
    "    [nv,1.0,0.0], \n",
    "    [0.0,0.0,0.5*(1.0-nv)]])\n",
    "\n",
    "# 第二步\n",
    "# 生成总体系统：节点位移、节点力和刚度矩阵\n",
    "# 总体系统大小\n",
    "len_global=2*len(nodes)\n",
    "deform=np.zeros(len_global)\n",
    "force=np.zeros(len_global)\n",
    "K=np.zeros((len_global,len_global))\n",
    "#初始化节点位移\n",
    "for node in x_fix:\n",
    "    deform[2*node]=x_fix[node]\n",
    "for node in y_fix:\n",
    "    deform[2*node+1]=y_fix[node]\n",
    "#初始化节点力\n",
    "for node in f_given:\n",
    "    force[2*node]=f_given[node][0]\n",
    "    force[2*node+1]=f_given[node][1]\n",
    "#初始化刚度矩阵\n",
    "for element in elements:\n",
    "    x0=nodes[element[0]][0]\n",
    "    y0=nodes[element[0]][1]\n",
    "    x1=nodes[element[1]][0]\n",
    "    y1=nodes[element[1]][1]\n",
    "    x2=nodes[element[2]][0]\n",
    "    y2=nodes[element[2]][1]\n",
    "    area_2=np.linalg.det(np.array([\n",
    "        [1.0,x0,y0], \n",
    "        [1.0,x1,y1], \n",
    "        [1.0,x2,y2]]))\n",
    "    B=1/area_2*np.array([\n",
    "        [y1-y2,0.0,y2-y0,0.0,y0-y1,0.0], \n",
    "        [0.0,x2-x1,0.0,x0-x2,0.0,x1-x0], \n",
    "        [x2-x1,y1-y2,x0-x2,y2-y0,x1-x0,y0-y1]])\n",
    "    K_element=area_2*B.T@D@B\n",
    "    deform_global_index=np.array([[2*element[i],2*element[i]+1] for i in range(3)],dtype=np.uint64).reshape(-1)\n",
    "    for i_local,i_global in enumerate(deform_global_index):\n",
    "        for j_local,j_global in enumerate(deform_global_index):\n",
    "            K[i_global,j_global]+=K_element[i_local,j_local]\n",
    "\n",
    "# 第三步\n",
    "# 生成约化系统：节点位移、节点力和刚度矩阵\n",
    "# 生成约化系统指标列表\n",
    "deform_free_index=[]\n",
    "for node,_ in enumerate(nodes):\n",
    "    if node not in x_fix:\n",
    "        deform_free_index.append(2*node)\n",
    "    if node not in y_fix:\n",
    "        deform_free_index.append(2*node+1)\n",
    "# 约化系统大小\n",
    "len_reduce=len(deform_free_index)\n",
    "deform_reduce=np.empty(len_reduce)\n",
    "force_reduce=np.zeros(len_reduce)\n",
    "K_reduce=np.zeros((len_reduce,len_reduce))\n",
    "# 约化节点力\n",
    "for i_reduce,i_global in enumerate(deform_free_index):\n",
    "    force_reduce[i_reduce]=force[i_global]\n",
    "# 约化刚度矩阵\n",
    "for i_reduce,i_global in enumerate(deform_free_index):\n",
    "    for j_reduce,j_global in enumerate(deform_free_index):\n",
    "        K_reduce[i_reduce,j_reduce]=K[i_global,j_global]\n",
    "\n",
    "# 第四步\n",
    "# 求解约化系统\n",
    "deform_reduce=np.linalg.solve(K_reduce,force_reduce)\n",
    "\n",
    "# 第五步\n",
    "# 更新总体系统：节点位移和节点力\n",
    "# 更新节点位移\n",
    "for i_reduce,i_global in enumerate(deform_free_index):\n",
    "    deform[i_global]=deform_reduce[i_reduce]\n",
    "# 更新节点力\n",
    "force=K@deform"
   ]
  },
  {
   "cell_type": "markdown",
   "metadata": {},
   "source": [
    "有限元后处理（在面向对象版本中详述）："
   ]
  },
  {
   "cell_type": "code",
   "execution_count": 25,
   "metadata": {},
   "outputs": [
    {
     "name": "stdout",
     "output_type": "stream",
     "text": [
      "[[ 0.          0.        ]\n",
      " [ 0.03611171 -0.00798372]\n",
      " [ 0.          0.        ]\n",
      " [ 0.          0.        ]\n",
      " [ 0.03297995  0.00472674]\n",
      " [ 0.08560047  0.00172474]\n",
      " [ 0.01980262 -0.01199891]\n",
      " [ 0.03448744 -0.00319907]\n",
      " [ 0.0280644  -0.00439485]\n",
      " [ 0.03614977 -0.00554314]\n",
      " [ 0.04470738 -0.01290549]\n",
      " [ 0.05377041  0.00153482]]\n"
     ]
    }
   ],
   "source": [
    "# 展示计算结果\n",
    "# 画图、获取数据\n",
    "# 举一例，展示节点位移\n",
    "print(deform.reshape(len(nodes),2))"
   ]
  },
  {
   "cell_type": "markdown",
   "metadata": {},
   "source": [
    "我们对内核部分进行重构，将主干部分完全函数化。按照注释将各部分整理成函数。"
   ]
  },
  {
   "cell_type": "markdown",
   "metadata": {},
   "source": [
    "第一步"
   ]
  },
  {
   "cell_type": "code",
   "execution_count": 26,
   "metadata": {},
   "outputs": [],
   "source": [
    "def cal_D(E,nv):\n",
    "    return E/(1.0-nv**2)*np.array([\n",
    "        [1.0,nv,0.0], \n",
    "        [nv,1.0,0.0], \n",
    "        [0.0,0.0,0.5*(1.0-nv)]])\n",
    "D=cal_D(E=10.0,nv=0.3)"
   ]
  },
  {
   "cell_type": "markdown",
   "metadata": {},
   "source": [
    "第二步，首先定义以下函数"
   ]
  },
  {
   "cell_type": "markdown",
   "metadata": {},
   "source": [
    "初始化需要用到的全局变量"
   ]
  },
  {
   "cell_type": "code",
   "execution_count": 27,
   "metadata": {},
   "outputs": [],
   "source": [
    "def init_global(nodes):\n",
    "    len_global=2*len(nodes)\n",
    "    deform=np.zeros(len_global)\n",
    "    force=np.zeros(len_global)\n",
    "    K=np.zeros((len_global,len_global))\n",
    "    return deform,force,K"
   ]
  },
  {
   "cell_type": "markdown",
   "metadata": {},
   "source": [
    "确定单元中各位移"
   ]
  },
  {
   "cell_type": "code",
   "execution_count": 28,
   "metadata": {},
   "outputs": [],
   "source": [
    "def get_position_local(element):\n",
    "    x0=nodes[element[0]][0]\n",
    "    y0=nodes[element[0]][1]\n",
    "    x1=nodes[element[1]][0]\n",
    "    y1=nodes[element[1]][1]\n",
    "    x2=nodes[element[2]][0]\n",
    "    y2=nodes[element[2]][1]\n",
    "    return x0,y0,x1,y1,x2,y2"
   ]
  },
  {
   "cell_type": "markdown",
   "metadata": {},
   "source": [
    "计算二倍面积"
   ]
  },
  {
   "cell_type": "code",
   "execution_count": 29,
   "metadata": {},
   "outputs": [],
   "source": [
    "def det_B(x0,y0,x1,y1,x2,y2):\n",
    "    matrix=np.array([\n",
    "        [1.0,x0,y0], \n",
    "        [1.0,x1,y1], \n",
    "        [1.0,x2,y2]])\n",
    "    det=np.linalg.det(matrix)\n",
    "    return abs(det)"
   ]
  },
  {
   "cell_type": "markdown",
   "metadata": {},
   "source": [
    "计算 $B$ 矩阵"
   ]
  },
  {
   "cell_type": "code",
   "execution_count": 30,
   "metadata": {},
   "outputs": [],
   "source": [
    "def b_matrix(x0,y0,x1,y1,x2,y2,area_2):\n",
    "    return 1/area_2*np.array([\\\n",
    "        [y1-y2,0.0,y2-y0,0.0,y0-y1,0.0], \n",
    "        [0.0,x2-x1,0.0,x0-x2,0.0,x1-x0], \n",
    "        [x2-x1,y1-y2,x0-x2,y2-y0,x1-x0,y0-y1]])"
   ]
  },
  {
   "cell_type": "markdown",
   "metadata": {},
   "source": [
    "单元积分，计算单元刚度矩阵 $K^e$"
   ]
  },
  {
   "cell_type": "code",
   "execution_count": 31,
   "metadata": {},
   "outputs": [],
   "source": [
    "def element_integrate(B,D,area_2):\n",
    "    return area_2*B.T@D@B"
   ]
  },
  {
   "cell_type": "markdown",
   "metadata": {},
   "source": [
    "将单元"
   ]
  },
  {
   "cell_type": "code",
   "execution_count": 32,
   "metadata": {},
   "outputs": [],
   "source": [
    "def Ke2K(element,K_element,K):\n",
    "    deform_global_index=np.array([[2*element[i],2*element[i]+1] for i in range(3)],dtype=np.uint64).reshape(-1)\n",
    "    for i_local,i_global in enumerate(deform_global_index):\n",
    "        for j_local,j_global in enumerate(deform_global_index):\n",
    "            K[i_global,j_global]+=K_element[i_local,j_local]"
   ]
  },
  {
   "cell_type": "markdown",
   "metadata": {},
   "source": [
    "初始化节点位移"
   ]
  },
  {
   "cell_type": "code",
   "execution_count": 33,
   "metadata": {},
   "outputs": [],
   "source": [
    "def init_deform(x_fix,y_fix):\n",
    "    for node in x_fix:\n",
    "        deform[2*node]=x_fix[node]\n",
    "    for node in y_fix:\n",
    "        deform[2*node+1]=y_fix[node]\n",
    "    return deform"
   ]
  },
  {
   "cell_type": "markdown",
   "metadata": {},
   "source": [
    "初始化节点力"
   ]
  },
  {
   "cell_type": "code",
   "execution_count": 34,
   "metadata": {},
   "outputs": [],
   "source": [
    "def init_force(f_given):\n",
    "    for node in f_given:\n",
    "        force[2*node]=f_given[node][0]\n",
    "        force[2*node+1]=f_given[node][1]\n",
    "    return force"
   ]
  },
  {
   "cell_type": "markdown",
   "metadata": {},
   "source": [
    "调用以上各个函数"
   ]
  },
  {
   "cell_type": "code",
   "execution_count": 35,
   "metadata": {},
   "outputs": [],
   "source": [
    "deform,force,K=init_global(nodes)\n",
    "deform=init_deform(x_fix,y_fix)\n",
    "force=init_force(f_given)\n",
    "for element in elements:\n",
    "    # calculate stiffness of element\n",
    "    x0,y0,x1,y1,x2,y2=get_position_local(element)\n",
    "    area_2=det_B(x0,y0,x1,y1,x2,y2)\n",
    "    B=b_matrix(x0,y0,x1,y1,x2,y2,area_2)\n",
    "    K_element=element_integrate(B,D,area_2)\n",
    "    # add local Ke into global K\n",
    "    Ke2K(element,K_element,K)"
   ]
  },
  {
   "cell_type": "markdown",
   "metadata": {},
   "source": [
    "## 第三步"
   ]
  },
  {
   "cell_type": "markdown",
   "metadata": {},
   "source": [
    "生成约化系统指标列表"
   ]
  },
  {
   "cell_type": "code",
   "execution_count": 36,
   "metadata": {},
   "outputs": [],
   "source": [
    "def cal_reduce_map(nodes):\n",
    "    deform_free_index=[]\n",
    "    for node,_ in enumerate(nodes):\n",
    "        if node not in x_fix:\n",
    "            deform_free_index.append(2*node)\n",
    "        if node not in y_fix:\n",
    "            deform_free_index.append(2*node+1)\n",
    "    return deform_free_index"
   ]
  },
  {
   "cell_type": "markdown",
   "metadata": {},
   "source": [
    "约化系统大小"
   ]
  },
  {
   "cell_type": "code",
   "execution_count": 37,
   "metadata": {},
   "outputs": [],
   "source": [
    "def init_reduce(deform_free_index):\n",
    "    len_reduce=len(deform_free_index)\n",
    "    deform_reduce=np.empty(len_reduce)\n",
    "    force_reduce=np.zeros(len_reduce)\n",
    "    K_reduce=np.zeros((len_reduce,len_reduce))\n",
    "    return deform_reduce,force_reduce,K_reduce"
   ]
  },
  {
   "cell_type": "markdown",
   "metadata": {},
   "source": [
    "约化节点力"
   ]
  },
  {
   "cell_type": "code",
   "execution_count": 38,
   "metadata": {},
   "outputs": [],
   "source": [
    "def reduce_force(force,deform_free_index):\n",
    "    for i_reduce,i_global in enumerate(deform_free_index):\n",
    "        force_reduce[i_reduce]=force[i_global]\n",
    "    return force_reduce"
   ]
  },
  {
   "cell_type": "markdown",
   "metadata": {},
   "source": [
    "约化刚度矩阵"
   ]
  },
  {
   "cell_type": "code",
   "execution_count": 39,
   "metadata": {},
   "outputs": [],
   "source": [
    "def reduce_K(K,deform_free_index):\n",
    "    for i_reduce,i_global in enumerate(deform_free_index):\n",
    "        for j_reduce,j_global in enumerate(deform_free_index):\n",
    "            K_reduce[i_reduce,j_reduce]=K[i_global,j_global]\n",
    "    return K_reduce"
   ]
  },
  {
   "cell_type": "markdown",
   "metadata": {},
   "source": [
    "调用以上函数"
   ]
  },
  {
   "cell_type": "code",
   "execution_count": 40,
   "metadata": {},
   "outputs": [],
   "source": [
    "deform_free_index=cal_reduce_map(nodes)\n",
    "deform_reduce,force_reduce,K_reduce=init_reduce(deform_free_index)\n",
    "force_reduce=reduce_force(force,deform_free_index)\n",
    "K_reduce=reduce_K(K,deform_free_index)"
   ]
  },
  {
   "cell_type": "code",
   "execution_count": 41,
   "metadata": {},
   "outputs": [
    {
     "data": {
      "text/plain": [
       "array([0., 0., 0., 0., 1., 0., 0., 0., 0., 0., 0., 0., 0., 0., 0., 0., 0.,\n",
       "       0.])"
      ]
     },
     "execution_count": 41,
     "metadata": {},
     "output_type": "execute_result"
    }
   ],
   "source": [
    "force_reduce"
   ]
  },
  {
   "cell_type": "markdown",
   "metadata": {},
   "source": [
    "## 第四步"
   ]
  },
  {
   "cell_type": "markdown",
   "metadata": {},
   "source": [
    "求解约化系统"
   ]
  },
  {
   "cell_type": "code",
   "execution_count": 42,
   "metadata": {},
   "outputs": [],
   "source": [
    "deform_reduce=np.linalg.solve(K_reduce,force_reduce)"
   ]
  },
  {
   "cell_type": "markdown",
   "metadata": {},
   "source": [
    "## 第五步"
   ]
  },
  {
   "cell_type": "markdown",
   "metadata": {},
   "source": [
    "更新总体系统：节点位移和节点力"
   ]
  },
  {
   "cell_type": "code",
   "execution_count": 43,
   "metadata": {},
   "outputs": [
    {
     "name": "stdout",
     "output_type": "stream",
     "text": [
      "[ 0.          0.          0.03611171 -0.00798372  0.          0.\n",
      "  0.          0.          0.03297995  0.00472674  0.08560047  0.00172474\n",
      "  0.01980262 -0.01199891  0.03448744 -0.00319907  0.0280644  -0.00439485\n",
      "  0.03614977 -0.00554314  0.04470738 -0.01290549  0.05377041  0.00153482]\n"
     ]
    }
   ],
   "source": [
    "def update_variables(deform_reduce,deform_free_index):\n",
    "    # 更新节点位移\n",
    "    for i_reduce,i_global in enumerate(deform_free_index):\n",
    "        deform[i_global]=deform_reduce[i_reduce]\n",
    "    # 更新节点力\n",
    "    force=K@deform\n",
    "    return deform,force\n",
    "deform,force=update_variables(deform_reduce,deform_free_index)"
   ]
  },
  {
   "cell_type": "code",
   "execution_count": 44,
   "metadata": {},
   "outputs": [
    {
     "data": {
      "text/plain": [
       "array([ 0.        ,  0.        ,  0.03611171, -0.00798372,  0.        ,\n",
       "        0.        ,  0.        ,  0.        ,  0.03297995,  0.00472674,\n",
       "        0.08560047,  0.00172474,  0.01980262, -0.01199891,  0.03448744,\n",
       "       -0.00319907,  0.0280644 , -0.00439485,  0.03614977, -0.00554314,\n",
       "        0.04470738, -0.01290549,  0.05377041,  0.00153482])"
      ]
     },
     "execution_count": 44,
     "metadata": {},
     "output_type": "execute_result"
    }
   ],
   "source": [
    "deform"
   ]
  }
 ],
 "metadata": {
  "interpreter": {
   "hash": "6b7fcde512a371fc80168da418ac10d3d117615124c98713c183be837caaa7d9"
  },
  "kernelspec": {
   "display_name": "Python 3.9.7 64-bit ('torch': conda)",
   "name": "python3"
  },
  "language_info": {
   "codemirror_mode": {
    "name": "ipython",
    "version": 3
   },
   "file_extension": ".py",
   "mimetype": "text/x-python",
   "name": "python",
   "nbconvert_exporter": "python",
   "pygments_lexer": "ipython3",
   "version": "3.9.7"
  },
  "orig_nbformat": 4
 },
 "nbformat": 4,
 "nbformat_minor": 2
}
