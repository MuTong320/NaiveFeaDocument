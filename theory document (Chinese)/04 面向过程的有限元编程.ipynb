{
 "cells": [
  {
   "cell_type": "markdown",
   "metadata": {},
   "source": [
    "# 面向过程的有限元编程"
   ]
  },
  {
   "cell_type": "markdown",
   "metadata": {},
   "source": [
    "我们首先将前几节的代码汇总一下，并将其分为三个部分：有限元前处理、有限元求解器和有限元后处理。"
   ]
  },
  {
   "cell_type": "markdown",
   "metadata": {},
   "source": [
    "有限元前处理（由用户输入）："
   ]
  },
  {
   "cell_type": "code",
   "execution_count": 1,
   "metadata": {},
   "outputs": [],
   "source": [
    "import numpy as np\n",
    "import pygmsh\n",
    "\n",
    "# 定义网格\n",
    "with pygmsh.geo.Geometry() as geom:\n",
    "    geom.add_polygon([[0.0, 0.0],[1.0, 0.0],[1.0, 1.0],[0.0, 1.0],],mesh_size=0.5,)\n",
    "    mesh = geom.generate_mesh()\n",
    "nodes=mesh.points\n",
    "elements=mesh.cells_dict['triangle']\n",
    "\n",
    "# 定义材料\n",
    "E=10.0\n",
    "nv=0.3\n",
    "\n",
    "# 定义载荷\n",
    "x_fix={0:0.0,2:0.0,3:0.0}\n",
    "y_fix={0:0.0,2:0.0,3:0.0}\n",
    "f_given={5:(1.0,0.0)}"
   ]
  },
  {
   "cell_type": "markdown",
   "metadata": {},
   "source": [
    "有限元求解器："
   ]
  },
  {
   "cell_type": "code",
   "execution_count": 2,
   "metadata": {},
   "outputs": [],
   "source": [
    "# 第一步\n",
    "# 材料本构：刚度矩阵（和切向刚度矩阵）\n",
    "D=E/((1.0+nv)*(1.0-2*nv))*np.array([\n",
    "    [1.0-nv,nv,0.0], \n",
    "    [nv,1.0-nv,0.0], \n",
    "    [0.0,0.0,0.5-nv]])\n",
    "\n",
    "# 第二步\n",
    "# 生成总体系统：节点位移、节点力和刚度矩阵\n",
    "# 总体系统大小\n",
    "len_global=2*len(nodes)\n",
    "deform=np.zeros(len_global)\n",
    "force=np.zeros(len_global)\n",
    "K=np.zeros((len_global,len_global))\n",
    "#初始化节点位移\n",
    "for node in x_fix:\n",
    "    deform[2*node]=x_fix[node]\n",
    "for node in y_fix:\n",
    "    deform[2*node+1]=y_fix[node]\n",
    "#初始化节点力\n",
    "for node in f_given:\n",
    "    force[2*node]=f_given[node][0]\n",
    "    force[2*node+1]=f_given[node][1]\n",
    "#初始化刚度矩阵\n",
    "for element in elements:\n",
    "    x0=nodes[element[0]][0]\n",
    "    y0=nodes[element[0]][1]\n",
    "    x1=nodes[element[1]][0]\n",
    "    y1=nodes[element[1]][1]\n",
    "    x2=nodes[element[2]][0]\n",
    "    y2=nodes[element[2]][1]\n",
    "    area_2=np.linalg.det(np.array([\n",
    "        [1.0,x0,y0], \n",
    "        [1.0,x1,y1], \n",
    "        [1.0,x2,y2]]))\n",
    "    B=1/area_2*np.array([\n",
    "        [y1-y2,0.0,y2-y0,0.0,y0-y1,0.0], \n",
    "        [0.0,x2-x1,0.0,x0-x2,0.0,x1-x0], \n",
    "        [x2-x1,y1-y2,x0-x2,y2-y0,x1-x0,y0-y1]])\n",
    "    K_element=area_2*B.T@D@B\n",
    "    deform_global_index=np.array([[2*element[i],2*element[i]+1] for i in range(3)],dtype=np.uint64).reshape(-1)\n",
    "    for i_local,i_global in enumerate(deform_global_index):\n",
    "        for j_local,j_global in enumerate(deform_global_index):\n",
    "            K[i_global,j_global]+=K_element[i_local,j_local]\n",
    "\n",
    "# 第三步\n",
    "# 生成约化系统：节点位移、节点力和刚度矩阵\n",
    "# 生成约化系统指标列表\n",
    "deform_free_index=[]\n",
    "for node,_ in enumerate(nodes):\n",
    "    if node not in x_fix:\n",
    "        deform_free_index.append(2*node)\n",
    "    if node not in y_fix:\n",
    "        deform_free_index.append(2*node+1)\n",
    "# 约化系统大小\n",
    "len_reduce=len(deform_free_index)\n",
    "deform_reduce=np.empty(len_reduce)\n",
    "force_reduce=np.zeros(len_reduce)\n",
    "K_reduce=np.zeros((len_reduce,len_reduce))\n",
    "# 约化节点力\n",
    "for i_reduce,i_global in enumerate(deform_free_index):\n",
    "    force_reduce[i_reduce]=force[i_global]\n",
    "# 约化刚度矩阵\n",
    "for i_reduce,i_global in enumerate(deform_free_index):\n",
    "    for j_reduce,j_global in enumerate(deform_free_index):\n",
    "        K_reduce[i_reduce,j_reduce]=K[i_global,j_global]\n",
    "\n",
    "# 第四步\n",
    "# 求解约化系统\n",
    "deform_reduce=np.linalg.solve(K_reduce,force_reduce)\n",
    "\n",
    "# 第五步\n",
    "# 更新总体系统：节点位移和节点力\n",
    "# 更新节点位移\n",
    "for i_reduce,i_global in enumerate(deform_free_index):\n",
    "    deform[i_global]=deform_reduce[i_reduce]\n",
    "# 更新节点力\n",
    "force=K@deform"
   ]
  },
  {
   "cell_type": "markdown",
   "metadata": {},
   "source": [
    "有限元后处理（在面向对象版本中详述）："
   ]
  },
  {
   "cell_type": "code",
   "execution_count": 3,
   "metadata": {},
   "outputs": [
    {
     "name": "stdout",
     "output_type": "stream",
     "text": [
      "[[ 0.          0.        ]\n",
      " [ 0.03286534 -0.00350798]\n",
      " [ 0.          0.        ]\n",
      " [ 0.          0.        ]\n",
      " [ 0.03103911  0.00828099]\n",
      " [ 0.07988051  0.00308401]\n",
      " [ 0.01730777 -0.01141488]\n",
      " [ 0.03388964 -0.00244238]\n",
      " [ 0.0269345  -0.00348095]\n",
      " [ 0.0341835  -0.00432742]\n",
      " [ 0.04225387 -0.01213036]\n",
      " [ 0.05115491  0.00442899]]\n"
     ]
    }
   ],
   "source": [
    "# 展示计算结果\n",
    "# 画图、获取数据\n",
    "# 举一例，展示节点位移\n",
    "print(deform.reshape(len(nodes),2))"
   ]
  }
 ],
 "metadata": {
  "interpreter": {
   "hash": "6b7fcde512a371fc80168da418ac10d3d117615124c98713c183be837caaa7d9"
  },
  "kernelspec": {
   "display_name": "Python 3.9.7 64-bit ('torch': conda)",
   "name": "python3"
  },
  "language_info": {
   "codemirror_mode": {
    "name": "ipython",
    "version": 3
   },
   "file_extension": ".py",
   "mimetype": "text/x-python",
   "name": "python",
   "nbconvert_exporter": "python",
   "pygments_lexer": "ipython3",
   "version": "3.9.7"
  },
  "orig_nbformat": 4
 },
 "nbformat": 4,
 "nbformat_minor": 2
}
