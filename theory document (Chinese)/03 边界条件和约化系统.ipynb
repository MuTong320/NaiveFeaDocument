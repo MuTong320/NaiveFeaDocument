{
 "cells": [
  {
   "cell_type": "markdown",
   "metadata": {},
   "source": [
    "# 边界条件和约化系统"
   ]
  },
  {
   "cell_type": "markdown",
   "metadata": {},
   "source": [
    "我们已经建立了总体刚度矩阵并联系起总体有限元系统\n",
    "$$\n",
    "KA=F\n",
    "$$\n",
    "所以我们一定希望现在就来求解这一线性系统获得各节点的位移，检验我们是否已经实现了一个有限元程序。但不幸的是，有限元程序到这里并未结束，因为刚度矩阵是不可逆的。\n",
    "\n",
    "刚度矩阵的不可逆性有着明确的物理含义，弹性体发生一个刚体位移（rigid deformation），节点力不变，即\n",
    "$$\n",
    "KA=K(A+A^{rd})=F\n",
    "$$\n",
    "\n",
    "在平面问题中，刚体位移包括x轴平移、y轴平移和面内旋转三个自由度（在空间问题中为三个平移和三个旋转，共六个），所以我们需要至少要为有限元系统提供三个约束。最简单的约束是固定节点位移，此外可以添加补充方程（例如弹性支座、周期条件等），本节只讨论固定位移。注意，本节需要的编程量相对前几节较大。"
   ]
  },
  {
   "cell_type": "code",
   "execution_count": 2,
   "metadata": {},
   "outputs": [],
   "source": [
    "import numpy as np"
   ]
  }
 ],
 "metadata": {
  "interpreter": {
   "hash": "6b7fcde512a371fc80168da418ac10d3d117615124c98713c183be837caaa7d9"
  },
  "kernelspec": {
   "display_name": "Python 3.9.7 64-bit ('torch': conda)",
   "name": "python3"
  },
  "language_info": {
   "codemirror_mode": {
    "name": "ipython",
    "version": 3
   },
   "file_extension": ".py",
   "mimetype": "text/x-python",
   "name": "python",
   "nbconvert_exporter": "python",
   "pygments_lexer": "ipython3",
   "version": "3.9.7"
  },
  "orig_nbformat": 4
 },
 "nbformat": 4,
 "nbformat_minor": 2
}
