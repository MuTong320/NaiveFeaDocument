{
 "cells": [
  {
   "cell_type": "markdown",
   "metadata": {},
   "source": [
    "# 边界条件和约化系统"
   ]
  },
  {
   "cell_type": "markdown",
   "metadata": {},
   "source": [
    "注意，本节需要的编程量相对前几节较大。"
   ]
  },
  {
   "cell_type": "markdown",
   "metadata": {},
   "source": [
    "我们已经建立了总体刚度矩阵并联系起总体有限元系统\n",
    "$$\n",
    "KA=F\n",
    "$$\n",
    "所以我们一定希望现在就来求解这一线性系统获得各节点的位移，检验我们是否已经实现了一个有限元程序。但不幸的是，有限元程序到这里并未结束，因为刚度矩阵是不可逆的。\n",
    "\n",
    "刚度矩阵的不可逆性有着明确的物理含义，弹性体发生一个刚体位移（rigid deformation），节点力不变，但反之不行，即\n",
    "$$\n",
    "KA=F\\\\\n",
    "K(A+A^{rd})=F'\\\\\n",
    "F=F'\n",
    "$$\n",
    "\n",
    "在平面问题中，刚体位移包括x轴平移、y轴平移和面内旋转三个自由度（在空间问题中为三个平移和三个旋转，共六个），所以我们需要至少要为有限元系统提供三个约束。最简单的约束是固定节点位移，此外可以添加补充方程（例如弹性支座、周期条件等）。"
   ]
  },
  {
   "cell_type": "markdown",
   "metadata": {},
   "source": [
    "从另一个角度看，微分方程的定解问题包括柯西问题（初值）和边值问题，由于我们现在考虑静态结构，不存在柯西问题，所以我们看边值问题。边值问题的描述包括 Dirichlet 边界条件（位移边界条件）和 Neumann 边界条件（力边界条件）。这些边界条件影响着有限元实际问题的最终计算结果。通过上述关于总体系统的讨论，我们知道一个弹性有限元问题至少包括减少三个刚体位移自由度的 Dirichlet 边界条件，而 Neumann 边界条件是任意的。\n",
    "\n",
    "对于有限元问题\n",
    "$$\n",
    "KA=F\n",
    "$$\n",
    "简单起见，我们首先研究完全固定而非补充方程。考虑一 Dirichlet 边界条件，它影响 $A$ 中若干自由度，这些自由度是固定的（fixed），它们的编号为 $\\{i_f\\}$ ，则剩余的自由度为 $\\{i_r\\}$ ，下标 r 指约化系统（reduced system）。定义按行约化量\n",
    "$$\n",
    "A^r=[A(i_r)],\\quad i_r\\in \\{i_r\\}\n",
    "$$\n",
    "$$\n",
    "K^{rc}=[K(i_r,:)],\\quad i_r\\in \\{i_r\\}\n",
    "$$\n",
    "删除编号为 $\\{i_f\\}$ 的自由度，可以得到\n",
    "$$\n",
    "K^{rc}A^r=F\n",
    "$$"
   ]
  },
  {
   "cell_type": "markdown",
   "metadata": {},
   "source": [
    "下面出于两点考虑，我们继续按列约化。第一点是从数学上，上述方程的秩只为约化系统的自由度 $\\mathrm{len}(i_r)$ ，所以该线性系统是超定的，我们只能选取其中 $\\mathrm{len}(i_r)$ 个方程求解。第二点即选择哪些方程，首先按照方程数目我们自然想到求解那些自由的节点自由度上的方程，即右边是 $F(i_r)$ 的方程。这在力学上也是合理的，因为这些节点的力是未知的，而其他节点的力要么是 0 （无边界条件和体力），要么是 Neumann 边界条件或体力给定值。定义按行约化量\n",
    "$$\n",
    "F^r=[A(i_r)],\\quad i_r\\in \\{i_r\\}\n",
    "$$\n",
    "$$\n",
    "K^r=[K^{rc}(:,i_r)]=[K(i_r,j_r)],\\quad i_r,j_r\\in \\{i_r\\}\n",
    "$$\n",
    "我们可以写出约化系统的有限元方程\n",
    "$$\n",
    "K^r A^r=F^r\n",
    "$$\n",
    "若边界条件是恰当的，则该方程是满秩的。"
   ]
  },
  {
   "cell_type": "markdown",
   "metadata": {},
   "source": [
    "接下来我们实现约化系统，这里的难点在于怎样设计数据的储存方式。更进一步讲，这里就要考试考虑如何让我们的程序更好操作。我们早已讲过，经典有限元理论和算法完全定型的当下，一个现代有限元程序的成功关键在于它是好用的。"
   ]
  },
  {
   "cell_type": "code",
   "execution_count": 1,
   "metadata": {},
   "outputs": [],
   "source": [
    "import numpy as np\n",
    "import pygmsh\n",
    "with pygmsh.geo.Geometry() as geom:\n",
    "    geom.add_polygon([[0.0, 0.0],[1.0, 0.0],[1.0, 1.0],[0.0, 1.0],],mesh_size=0.5,)\n",
    "    mesh = geom.generate_mesh()\n",
    "nodes=mesh.points\n",
    "elements=mesh.cells_dict['triangle']"
   ]
  },
  {
   "cell_type": "markdown",
   "metadata": {},
   "source": [
    "首先将前几节内容汇总"
   ]
  },
  {
   "cell_type": "code",
   "execution_count": 2,
   "metadata": {},
   "outputs": [],
   "source": [
    "E=10.0\n",
    "nv=0.3\n",
    "D=E/(1.0-nv**2)*np.array([\n",
    "    [1.0,nv,0.0], \n",
    "    [nv,1.0,0.0], \n",
    "    [0.0,0.0,0.5*(1.0-nv)]])\n",
    "\n",
    "len_global=2*len(nodes)\n",
    "K=np.zeros((len_global,len_global))\n",
    "\n",
    "for element in elements:\n",
    "    x0=nodes[element[0]][0]\n",
    "    y0=nodes[element[0]][1]\n",
    "    x1=nodes[element[1]][0]\n",
    "    y1=nodes[element[1]][1]\n",
    "    x2=nodes[element[2]][0]\n",
    "    y2=nodes[element[2]][1]\n",
    "    area_2=np.linalg.det(np.array([\n",
    "        [1.0,x0,y0], \n",
    "        [1.0,x1,y1], \n",
    "        [1.0,x2,y2]]))\n",
    "    B=0.5/area_2*np.array([\n",
    "        [y1-y2,0.0,y2-y0,0.0,y0-y1,0.0], \n",
    "        [0.0,x2-x1,0.0,x0-x2,0.0,x1-x0], \n",
    "        [x2-x1,y1-y2,x0-x2,y2-y0,x1-x0,y0-y1]])\n",
    "    K_element=area_2*B.T@D@B\n",
    "    deform_global_index=np.array([[2*element[i],2*element[i]+1] for i in range(3)],dtype=np.uint64).reshape(-1)\n",
    "    for i_local,i_global in enumerate(deform_global_index):\n",
    "        for j_local,j_global in enumerate(deform_global_index):\n",
    "            K[i_global,j_global]+=K_element[i_local,j_local]"
   ]
  },
  {
   "cell_type": "markdown",
   "metadata": {},
   "source": [
    "可以测试一下总体刚度矩阵的秩"
   ]
  },
  {
   "cell_type": "code",
   "execution_count": 3,
   "metadata": {},
   "outputs": [
    {
     "name": "stdout",
     "output_type": "stream",
     "text": [
      "K is 24-order matrix, and its rank is 21\n"
     ]
    }
   ],
   "source": [
    "rank=np.linalg.matrix_rank(K)\n",
    "print(f'K is {len_global}-order matrix, and its rank is {rank}')"
   ]
  },
  {
   "cell_type": "markdown",
   "metadata": {},
   "source": [
    "这里我们选择建立边界条件字典，其具体设计必将考虑各种复杂的边界条件描述，我们先做一个简易版，包括x轴位移、y轴位移和节点力。其索引为节点编号。\n",
    "\n",
    "首先看一下网格上的节点标号："
   ]
  },
  {
   "cell_type": "code",
   "execution_count": 4,
   "metadata": {},
   "outputs": [
    {
     "data": {
      "text/plain": [
       "Text(0.5, 1.0, 'Mesh')"
      ]
     },
     "execution_count": 4,
     "metadata": {},
     "output_type": "execute_result"
    },
    {
     "data": {
      "image/png": "[encoded data removed]",
      "text/plain": [
       "<Figure size 432x288 with 1 Axes>"
      ]
     },
     "metadata": {
      "needs_background": "light"
     },
     "output_type": "display_data"
    }
   ],
   "source": [
    "import matplotlib.pyplot as plt\n",
    "import matplotlib.tri as tri\n",
    "x=mesh.points.T[0]\n",
    "y=mesh.points.T[1]\n",
    "elements=mesh.cells_dict['triangle']\n",
    "mesh_fig=tri.Triangulation(x,y,elements)\n",
    "plt.figure()\n",
    "plt.gca().set_aspect('equal')\n",
    "plt.triplot(mesh_fig,'b.-',lw=1)\n",
    "for index,_ in enumerate(nodes):\n",
    "    plt.annotate(index,(x[index],y[index]),color=\"red\")\n",
    "plt.title('Mesh')"
   ]
  },
  {
   "cell_type": "markdown",
   "metadata": {},
   "source": [
    "我们完全固定最左侧节点的两个自由度，右侧中点赋予 1.0 的水平拉力。其字典形式即"
   ]
  },
  {
   "cell_type": "code",
   "execution_count": 5,
   "metadata": {},
   "outputs": [],
   "source": [
    "x_fix={0:0.0,2:0.0,3:0.0}\n",
    "y_fix={0:0.0,2:0.0,3:0.0}\n",
    "f_given={5:(1.0,0.0)}"
   ]
  },
  {
   "cell_type": "markdown",
   "metadata": {},
   "source": [
    "首先生成一个总体系统的节点位移 $A$ 和节点力数组 $F$ ，然后将边界条件数据填入其中。在约化系统计算中，不需要也不应更改这两个数组。在约化系统计算结束后，再更新这两个数组。"
   ]
  },
  {
   "cell_type": "code",
   "execution_count": 6,
   "metadata": {},
   "outputs": [],
   "source": [
    "deform=np.zeros(len_global)\n",
    "force=np.zeros(len_global)\n",
    "for node in x_fix:\n",
    "    deform[2*node]=x_fix[node]\n",
    "for node in y_fix:\n",
    "    deform[2*node+1]=y_fix[node]\n",
    "for node in f_given:\n",
    "    force[2*node]=f_given[node][0]\n",
    "    force[2*node+1]=f_given[node][1]"
   ]
  },
  {
   "cell_type": "markdown",
   "metadata": {},
   "source": [
    "将未固定唯一自由度的节点的位置，即约化系统的变量在总体系统中的指标，记录在 $\\{i_r\\}$ （deform_free_index）中。"
   ]
  },
  {
   "cell_type": "code",
   "execution_count": 7,
   "metadata": {},
   "outputs": [],
   "source": [
    "deform_free_index=[]\n",
    "for node,_ in enumerate(nodes):\n",
    "    if node not in x_fix:\n",
    "        deform_free_index.append(2*node)\n",
    "    if node not in y_fix:\n",
    "        deform_free_index.append(2*node+1)\n",
    "len_reduce=len(deform_free_index)"
   ]
  },
  {
   "cell_type": "markdown",
   "metadata": {},
   "source": [
    "建立约化系统中的节点位移 $A^r$ 和节点力数组 $F^r$ ，其中结点位移数组将会在线性系统求解时更新；节点力系统需要将力边界条件（总体节点力）中的数据填入其中，其他位置为零。"
   ]
  },
  {
   "cell_type": "code",
   "execution_count": 8,
   "metadata": {},
   "outputs": [],
   "source": [
    "deform_reduce=np.empty(len_reduce)\n",
    "force_reduce=np.zeros(len_reduce)\n",
    "for i_reduce,i_global in enumerate(deform_free_index):\n",
    "    force_reduce[i_reduce]=force[i_global]"
   ]
  },
  {
   "cell_type": "markdown",
   "metadata": {},
   "source": [
    "最后建立约化刚度矩阵 $K^r$"
   ]
  },
  {
   "cell_type": "code",
   "execution_count": 9,
   "metadata": {},
   "outputs": [],
   "source": [
    "K_reduce=np.zeros((len_reduce,len_reduce))\n",
    "for i_reduce,i_global in enumerate(deform_free_index):\n",
    "    for j_reduce,j_global in enumerate(deform_free_index):\n",
    "        K_reduce[i_reduce,j_reduce]=K[i_global,j_global]"
   ]
  },
  {
   "cell_type": "markdown",
   "metadata": {},
   "source": [
    "我们检验约化刚度矩阵的秩"
   ]
  },
  {
   "cell_type": "code",
   "execution_count": 10,
   "metadata": {},
   "outputs": [
    {
     "name": "stdout",
     "output_type": "stream",
     "text": [
      "K^r is 18-order matrix, and its rank is 18\n"
     ]
    }
   ],
   "source": [
    "rank=np.linalg.matrix_rank(K_reduce)\n",
    "print(f'K^r is {len_reduce}-order matrix, and its rank is {rank}')"
   ]
  },
  {
   "cell_type": "markdown",
   "metadata": {},
   "source": [
    "终于，我们建立了约化系统的有限元方程\n",
    "$$\n",
    "K^r A^r=F^r\n",
    "$$\n",
    "现在求解线性系统"
   ]
  },
  {
   "cell_type": "code",
   "execution_count": 11,
   "metadata": {},
   "outputs": [
    {
     "name": "stdout",
     "output_type": "stream",
     "text": [
      "A^r = \n",
      "[ 0.14444686 -0.03193487  0.13191981  0.01890696  0.34240188  0.00689897\n",
      "  0.07921049 -0.04799564  0.13794975 -0.01279628  0.11225761 -0.01757941\n",
      "  0.14459907 -0.02217255  0.17882954 -0.05162197  0.21508163  0.00613928]\n"
     ]
    }
   ],
   "source": [
    "deform_reduce=np.linalg.solve(K_reduce,force_reduce)\n",
    "print(f'A^r = \\n{deform_reduce}')"
   ]
  },
  {
   "cell_type": "markdown",
   "metadata": {},
   "source": [
    "**这就是胜利的曙光。**\n",
    "\n",
    "传统上的计算密集区，但是已经相当成熟，不需要我们花心思优化。"
   ]
  },
  {
   "cell_type": "markdown",
   "metadata": {},
   "source": [
    "下面的任务我们终于可以有底气地进行了。更新总体节点数据。首先将约化系统的结点位移 $A^r$ 填回总体系统的结点位移 $A$"
   ]
  },
  {
   "cell_type": "code",
   "execution_count": 12,
   "metadata": {},
   "outputs": [],
   "source": [
    "for i_reduce,i_global in enumerate(deform_free_index):\n",
    "    deform[i_global]=deform_reduce[i_reduce]"
   ]
  },
  {
   "cell_type": "markdown",
   "metadata": {},
   "source": [
    "再重新计算节点力 $F$ "
   ]
  },
  {
   "cell_type": "code",
   "execution_count": 13,
   "metadata": {},
   "outputs": [
    {
     "name": "stdout",
     "output_type": "stream",
     "text": [
      "force = \n",
      "[-3.83456789e-01 -8.80975205e-02 -8.32667268e-17  3.98986399e-17\n",
      " -2.81881849e-01 -1.16543211e-01 -3.34661362e-01  2.04640731e-01\n",
      " -1.11022302e-16  0.00000000e+00  1.00000000e+00  0.00000000e+00\n",
      " -4.16333634e-17 -9.71445147e-17  1.66533454e-16 -2.77555756e-17\n",
      "  2.22044605e-16  5.55111512e-17 -3.33066907e-16 -1.24900090e-16\n",
      " -2.22044605e-16 -1.11022302e-16  3.88578059e-16 -1.94289029e-16]\n"
     ]
    }
   ],
   "source": [
    "force=K@deform\n",
    "print(f'force = \\n{force}')"
   ]
  }
 ],
 "metadata": {
  "interpreter": {
   "hash": "6b7fcde512a371fc80168da418ac10d3d117615124c98713c183be837caaa7d9"
  },
  "kernelspec": {
   "display_name": "Python 3.9.7 64-bit ('torch': conda)",
   "name": "python3"
  },
  "language_info": {
   "codemirror_mode": {
    "name": "ipython",
    "version": 3
   },
   "file_extension": ".py",
   "mimetype": "text/x-python",
   "name": "python",
   "nbconvert_exporter": "python",
   "pygments_lexer": "ipython3",
   "version": "3.9.7"
  },
  "orig_nbformat": 4
 },
 "nbformat": 4,
 "nbformat_minor": 2
}
