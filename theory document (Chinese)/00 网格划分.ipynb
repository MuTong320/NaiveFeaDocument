{
 "cells": [
  {
   "cell_type": "code",
   "execution_count": 1,
   "metadata": {},
   "outputs": [],
   "source": [
    "import numpy as np\n",
    "import matplotlib.pyplot as plt\n",
    "import matplotlib.tri as tri"
   ]
  },
  {
   "cell_type": "markdown",
   "metadata": {},
   "source": [
    "# 网格划分"
   ]
  },
  {
   "cell_type": "markdown",
   "metadata": {},
   "source": [
    "为了强调 Python 语言的列表是从零开始编号的，我们这一节也叫第0节。同时这是因为这一节介绍用第三方库生成有限元网格，并未涉及任何需要我们自编的内容。"
   ]
  },
  {
   "cell_type": "markdown",
   "metadata": {},
   "source": [
    "在本节，我们利用 pygmsh 生成网格，并介绍网格的数据结构。\n",
    "\n",
    "首先了解一下 pygmsh。pygmsh 是 Gmsh 前处理部分的 Python 版，而 Gmsh （见 http://www.gmsh.info/ ）是一个开源的内置了前后处理的有限元网格生成器，并且拥有图形界面。因为 Python 有诸如 matplotlib 之类的成熟的画图库，所以 pygmsh 没有选择包含后处理和显示功能。"
   ]
  },
  {
   "cell_type": "code",
   "execution_count": 2,
   "metadata": {},
   "outputs": [],
   "source": [
    "import pygmsh"
   ]
  },
  {
   "cell_type": "markdown",
   "metadata": {},
   "source": [
    "仿照 pygmsh 给出的示例代码，我们生成一个正方形区域的三角形网格（为了方便阅读，本文只生成较少的网格，这固然会影响结果的计算精度，但是划分更多网格的有限元分析的思路是一致的）："
   ]
  },
  {
   "cell_type": "code",
   "execution_count": 3,
   "metadata": {},
   "outputs": [],
   "source": [
    "with pygmsh.geo.Geometry() as geom:\n",
    "    geom.add_polygon( # 定义几何形状\n",
    "        # 几何形状\n",
    "        [\n",
    "            [0.0, 0.0],\n",
    "            [1.0, 0.0],\n",
    "            [1.0, 1.0],\n",
    "            [0.0, 1.0],\n",
    "        ],\n",
    "        # 建议的网格尺寸\n",
    "        mesh_size=0.5,\n",
    "    )\n",
    "    mesh = geom.generate_mesh() # 为几何形状生成网格"
   ]
  },
  {
   "cell_type": "markdown",
   "metadata": {},
   "source": [
    "我们看一下生成的网格。暂时不需要理解下面代码的含义，我们将会在后处理绘图中介绍。"
   ]
  },
  {
   "cell_type": "code",
   "execution_count": 4,
   "metadata": {},
   "outputs": [
    {
     "data": {
      "text/plain": [
       "Text(0.5, 1.0, 'Mesh')"
      ]
     },
     "execution_count": 4,
     "metadata": {},
     "output_type": "execute_result"
    },
    {
     "data": {
      "image/png": "[encoded data removed]",
      "text/plain": [
       "<Figure size 432x288 with 1 Axes>"
      ]
     },
     "metadata": {
      "needs_background": "light"
     },
     "output_type": "display_data"
    }
   ],
   "source": [
    "x=mesh.points.T[0]\n",
    "y=mesh.points.T[1]\n",
    "elements=mesh.cells_dict['triangle']\n",
    "mesh_fig=tri.Triangulation(x,y,elements)\n",
    "plt.figure()\n",
    "plt.gca().set_aspect('equal')\n",
    "plt.triplot(mesh_fig,'b.-',lw=1)\n",
    "plt.title('Mesh')"
   ]
  },
  {
   "cell_type": "markdown",
   "metadata": {},
   "source": [
    "下面我们学习有限元网格信息的记录方法。若一个区域被划分成三角形网格，我们分节点数据和网格数据对网格数据进行记录。\n",
    "\n",
    "首先是节点数据，包含节点的编号和节点的位移。我们的网格包含如下节点（注意这里的节点是三维坐标记录的）："
   ]
  },
  {
   "cell_type": "code",
   "execution_count": 5,
   "metadata": {},
   "outputs": [
    {
     "data": {
      "text/plain": [
       "array([[0.        , 0.        , 0.        ],\n",
       "       [1.        , 0.        , 0.        ],\n",
       "       [1.        , 1.        , 0.        ],\n",
       "       [0.        , 1.        , 0.        ],\n",
       "       [0.5       , 0.        , 0.        ],\n",
       "       [1.        , 0.5       , 0.        ],\n",
       "       [0.5       , 1.        , 0.        ],\n",
       "       [0.        , 0.5       , 0.        ],\n",
       "       [0.29375   , 0.70625   , 0.        ],\n",
       "       [0.375     , 0.375     , 0.        ],\n",
       "       [0.64791667, 0.64375   , 0.        ],\n",
       "       [0.71875   , 0.28125   , 0.        ]])"
      ]
     },
     "execution_count": 5,
     "metadata": {},
     "output_type": "execute_result"
    }
   ],
   "source": [
    "mesh.points"
   ]
  },
  {
   "cell_type": "markdown",
   "metadata": {},
   "source": [
    "节点编号为可由索引列表给出"
   ]
  },
  {
   "cell_type": "code",
   "execution_count": 6,
   "metadata": {},
   "outputs": [
    {
     "data": {
      "text/plain": [
       "[(0, array([0., 0., 0.])),\n",
       " (1, array([1., 0., 0.])),\n",
       " (2, array([1., 1., 0.])),\n",
       " (3, array([0., 1., 0.])),\n",
       " (4, array([0.5, 0. , 0. ])),\n",
       " (5, array([1. , 0.5, 0. ])),\n",
       " (6, array([0.5, 1. , 0. ])),\n",
       " (7, array([0. , 0.5, 0. ])),\n",
       " (8, array([0.29375, 0.70625, 0.     ])),\n",
       " (9, array([0.375, 0.375, 0.   ])),\n",
       " (10, array([0.64791667, 0.64375   , 0.        ])),\n",
       " (11, array([0.71875, 0.28125, 0.     ]))]"
      ]
     },
     "execution_count": 6,
     "metadata": {},
     "output_type": "execute_result"
    }
   ],
   "source": [
    "list(enumerate(mesh.points))"
   ]
  },
  {
   "cell_type": "markdown",
   "metadata": {},
   "source": [
    "其次是单元数据，由于节点位置已经由节点数据记录，单元只需记录单元包含的节点。pygmsh 生成的节点数据储存在 meshio 库的 Mesh 类中，为了涵盖丰富类型的节点，该库用字典形式储存了各类单元的数据。在本文中，我们只研究三角形网格，所以我们选择三角形单元："
   ]
  },
  {
   "cell_type": "code",
   "execution_count": 7,
   "metadata": {},
   "outputs": [
    {
     "data": {
      "text/plain": [
       "array([[ 5,  2, 10],\n",
       "       [ 7,  0,  9],\n",
       "       [ 0,  4,  9],\n",
       "       [ 2,  6, 10],\n",
       "       [ 4,  1, 11],\n",
       "       [ 1,  5, 11],\n",
       "       [ 6,  3,  8],\n",
       "       [ 3,  7,  8],\n",
       "       [ 5, 10, 11],\n",
       "       [ 8,  7,  9],\n",
       "       [ 8,  9, 10],\n",
       "       [ 9,  4, 11],\n",
       "       [10,  9, 11],\n",
       "       [ 6,  8, 10]], dtype=uint64)"
      ]
     },
     "execution_count": 7,
     "metadata": {},
     "output_type": "execute_result"
    }
   ],
   "source": [
    "mesh.cells_dict['triangle']"
   ]
  },
  {
   "cell_type": "markdown",
   "metadata": {},
   "source": [
    "按索引列表展示单元："
   ]
  },
  {
   "cell_type": "code",
   "execution_count": 8,
   "metadata": {},
   "outputs": [
    {
     "data": {
      "text/plain": [
       "[(0, array([ 5,  2, 10], dtype=uint64)),\n",
       " (1, array([7, 0, 9], dtype=uint64)),\n",
       " (2, array([0, 4, 9], dtype=uint64)),\n",
       " (3, array([ 2,  6, 10], dtype=uint64)),\n",
       " (4, array([ 4,  1, 11], dtype=uint64)),\n",
       " (5, array([ 1,  5, 11], dtype=uint64)),\n",
       " (6, array([6, 3, 8], dtype=uint64)),\n",
       " (7, array([3, 7, 8], dtype=uint64)),\n",
       " (8, array([ 5, 10, 11], dtype=uint64)),\n",
       " (9, array([8, 7, 9], dtype=uint64)),\n",
       " (10, array([ 8,  9, 10], dtype=uint64)),\n",
       " (11, array([ 9,  4, 11], dtype=uint64)),\n",
       " (12, array([10,  9, 11], dtype=uint64)),\n",
       " (13, array([ 6,  8, 10], dtype=uint64))]"
      ]
     },
     "execution_count": 8,
     "metadata": {},
     "output_type": "execute_result"
    }
   ],
   "source": [
    "list(enumerate(mesh.cells_dict['triangle']))"
   ]
  }
 ],
 "metadata": {
  "interpreter": {
   "hash": "6b7fcde512a371fc80168da418ac10d3d117615124c98713c183be837caaa7d9"
  },
  "kernelspec": {
   "display_name": "Python 3.9.7 64-bit ('torch': conda)",
   "name": "python3"
  },
  "language_info": {
   "codemirror_mode": {
    "name": "ipython",
    "version": 3
   },
   "file_extension": ".py",
   "mimetype": "text/x-python",
   "name": "python",
   "nbconvert_exporter": "python",
   "pygments_lexer": "ipython3",
   "version": "3.9.7"
  },
  "orig_nbformat": 4
 },
 "nbformat": 4,
 "nbformat_minor": 2
}
