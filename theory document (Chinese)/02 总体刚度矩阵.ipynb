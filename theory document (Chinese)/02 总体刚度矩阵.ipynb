{
 "cells": [
  {
   "cell_type": "markdown",
   "metadata": {},
   "source": [
    "# 总体刚度矩阵"
   ]
  },
  {
   "cell_type": "markdown",
   "metadata": {},
   "source": [
    "我们现在已经知道了一个单元的节点力和结点位移关系为\n",
    "$$\n",
    "F^{e_n}=K^{e_n} A^{e_n}\\quad \\mathrm{point} \\in \\mathrm{element}_n\n",
    "$$\n",
    "由于单元节点集是总体节点集的子集，所以我们有一选择函数，对于单元 $e_n$\n",
    "$$\n",
    "\\begin{aligned}\n",
    "&A=[u_0,v_0,u_1,v_1,\\cdots,u_{N-1},v_{N-1}]^T\\\\\n",
    "&\\downarrow\\mathrm{choose}[e_n]\\\\\n",
    "&A^{e_n}=[u_i,v_i,u_j,v_j,u_k,v_k]^T\n",
    "\\end{aligned}\n",
    "$$\n",
    "我们可以用乘一个矩阵的方式写出该操作\n",
    "$$\n",
    "A^{e_n}=C^{e_n} A\n",
    "$$\n",
    "其中 $C^{e_n}$ 是一个 $6\\times N$ 矩阵\n",
    "$$\n",
    "C^{e_n}=\n",
    "\\begin{matrix}\n",
    "& 0 & \\cdots & 1 & 0 & \\cdots & 0 & 0 & \\cdots & 0 & 0 & \\cdots & 0 \\\\\n",
    "& 0 & \\cdots & 0 & 1 & \\cdots & 0 & 0 & \\cdots & 0 & 0 & \\cdots & 0 \\\\\n",
    "& 0 & \\cdots & 0 & 0 & \\cdots & 1 & 0 & \\cdots & 0 & 0 & \\cdots & 0 \\\\\n",
    "& 0 & \\cdots & 0 & 0 & \\cdots & 0 & 1 & \\cdots & 0 & 0 & \\cdots & 0 \\\\\n",
    "& 0 & \\cdots & 0 & 0 & \\cdots & 0 & 0 & \\cdots & 1 & 0 & \\cdots & 0 \\\\\n",
    "& 0 & \\cdots & 0 & 0 & \\cdots & 0 & 0 & \\cdots & 1 & 0 & \\cdots & 0 \\\\\n",
    "\\hline\n",
    "\\mathrm{index:} & 0 & & 2i & 2i+1 & & 2j & 2j+1 & & 2k & 2k+1 & & N-1\n",
    "\\end{matrix}\n",
    "$$"
   ]
  },
  {
   "cell_type": "markdown",
   "metadata": {},
   "source": [
    "由于结点位移和节点力一一对应，所以我们可以求出总体的节点力有和结点位移类似的形式。注意这里的总体节点力是指该单元对总体节点力的贡献（一个节点的节点力由共享该节点的所有单元的贡献累加而成）\n",
    "$$\n",
    "F^{e_n}=C^{e_n} F \\quad(\\text{from }e_n)\n",
    "$$\n",
    "注意到\n",
    "$$\n",
    "(C^{e_n})^T C^{e_n}=\n",
    "\\left(\n",
    "\\begin{aligned}\n",
    "1 &\\quad \\text{row of former equal to column of latter}\\\\\n",
    "0 &\\quad \\text{other}\n",
    "\\end{aligned}\n",
    "\\right.\n",
    "$$\n",
    "所以\n",
    "$$\n",
    "(C^{e_n})^T C^{e_n}=\\mathbf{I}_N\n",
    "$$\n",
    "所以\n",
    "$$\n",
    "(C^{e_n})^T F^{e_n}=(C^{e_n})^T C^{e_n} F\n",
    "$$\n",
    "即\n",
    "$$\n",
    "F=(C^{e_n})^T F^{e_n}\n",
    "$$"
   ]
  },
  {
   "cell_type": "markdown",
   "metadata": {},
   "source": [
    "由此我们可以列出总体节点力平衡方程。首先，单元的节点力为\n",
    "$$\n",
    "F^{e_n}=K^{e_n} A^{e_n}=K^{e_n} C^{e_n} A\n",
    "$$\n",
    "该单元对总体节点力的贡献为\n",
    "$$\n",
    "F=(C^{e_n})^T F^{e_n}=(C^{e_n})^T K^{e_n} C^{e_n} A\n",
    "$$\n",
    "考虑到各个单元的贡献，总体节点力矩阵为\n",
    "$$\n",
    "F=\\sum_{n=0}^{N-1} (C^{e_n})^T K^{e_n} C^{e_n} A\n",
    "$$\n",
    "由于某一单元不影响总体位移矩阵的顺序，所以\n",
    "$$\n",
    "F=\\left(\\sum_{n=0}^{N-1} (C^{e_n})^T K^{e_n} C^{e_n}\\right) A\n",
    "$$\n",
    "即\n",
    "$$\n",
    "F=K A\n",
    "$$\n",
    "可见整体刚度矩阵为\n",
    "$$\n",
    "K=\\sum_{n=0}^{N-1} (C^{e_n})^T K^{e_n} C^{e_n}\n",
    "$$"
   ]
  },
  {
   "cell_type": "markdown",
   "metadata": {},
   "source": [
    "下面我们开始实现刚度矩阵的组装，为了让读者看得清楚。首先生成第0节“网格划分”中的网格。"
   ]
  },
  {
   "cell_type": "code",
   "execution_count": 5,
   "metadata": {},
   "outputs": [],
   "source": [
    "import numpy as np\n",
    "import pygmsh\n",
    "with pygmsh.geo.Geometry() as geom:\n",
    "    geom.add_polygon(\n",
    "        [\n",
    "            [0.0, 0.0],\n",
    "            [1.0, 0.0],\n",
    "            [1.0, 1.0],\n",
    "            [0.0, 1.0],\n",
    "        ],\n",
    "        mesh_size=0.5,\n",
    "    )\n",
    "    mesh = geom.generate_mesh()\n",
    "# 定义节点数据和网格数据\n",
    "nodes=mesh.points\n",
    "elements=mesh.cells_dict['triangle']"
   ]
  },
  {
   "cell_type": "markdown",
   "metadata": {},
   "source": [
    "定义总体刚度矩阵的尺寸（2N方阵）"
   ]
  },
  {
   "cell_type": "code",
   "execution_count": 6,
   "metadata": {},
   "outputs": [],
   "source": [
    "len_global=2*len(nodes)\n",
    "K=np.zeros((len_global,len_global))"
   ]
  },
  {
   "cell_type": "markdown",
   "metadata": {},
   "source": [
    "在迭代格式中，我们首先建立适当大小的零矩阵 $K^0$ ，然后在所有单元上迭代，每次更新\n",
    "$$\n",
    "K^n=K^{n-1}+(C^{e_n})^T K^{e_n} C^{e_n}\n",
    "$$\n",
    "这里 $(C^{e_n})^T (\\bullet) C^{e_n}$ 相当于这样一种操作，将作用输入 $K^e$ 的局部指标位置的值，转换为输出 $K$ 的全局指标位置的值。这相当于将一个小矩阵分散为一个稀疏矩阵，所以我们当然不希望在内存中真的出现这样一个大矩阵，所以按照稀疏矩阵的思想，指出总体刚度矩阵元素的位置（值在局部刚度矩阵中）。\n",
    "\n",
    "若某单元包括标号为 $i,j,k$ 的三个点，由于每个点有两个位移分量，所以该单元的局部指标和全局指标之间的联系如下：\n",
    "$$\n",
    "\\begin{matrix}\n",
    "i_{\\mathrm{local}}  & 0 & 1 & 2 & 3 & 4 & 5 \\\\\n",
    "i_{\\mathrm{global}} & 2i & 2i+1 & 2j & 2j+1 & 2k & 2k+1\n",
    "\\end{matrix}\n",
    "$$\n",
    "所以总体刚度矩阵的值（即局部刚度矩阵）对应的总体刚度矩阵的位置是向量 $i_{\\mathrm{global}}$ 和自身的外积\n",
    "$$\n",
    "\\begin{bmatrix}\n",
    "(2 i,2 i) & (2 i,2 i+1) & (2 i,2 j) & (2 i,2 j+1) & (2 i,2 k) & (2 i,2 k+1) \\\\\n",
    "(2 i+1,2 i) & (2 i+1,2 i+1) & (2 i+1,2 j) & (2 i+1,2 j+1) & (2 i+1,2 k) & (2 i+1,2 k+1) \\\\\n",
    "(2 j,2 i) & (2 j,2 i+1) & (2 j,2 j) & (2 j,2 j+1) & (2 j,2 k) & (2 j,2 k+1) \\\\\n",
    "(2 j+1,2 i) & (2 j+1,2 i+1) & (2 j+1,2 j) & (2 j+1,2 j+1) & (2 j+1,2 k) & (2 j+1,2 k+1) \\\\\n",
    "(2 k,2 i) & (2 k,2 i+1) & (2 k,2 j) & (2 k,2 j+1) & (2 k,2 k) & (2 k,2 k+1) \\\\\n",
    "(2 k+1,2 i) & (2 k+1,2 i+1) & (2 k+1,2 j) & (2 k+1,2 j+1) & (2 k+1,2 k) & (2 k+1,2 k+1)\n",
    "\\end{bmatrix}\n",
    "$$"
   ]
  },
  {
   "cell_type": "markdown",
   "metadata": {},
   "source": [
    "为了理解方便，本节暂时不用真实的刚度矩阵，而用全1矩阵代替。"
   ]
  },
  {
   "cell_type": "code",
   "execution_count": 7,
   "metadata": {},
   "outputs": [
    {
     "name": "stdout",
     "output_type": "stream",
     "text": [
      "K = \n",
      "[[2. 2. 0. 0. 0. 0. 0. 0. 1. 1. 0. 0. 0. 0. 1. 1. 0. 0. 2. 2. 0. 0. 0. 0.]\n",
      " [2. 2. 0. 0. 0. 0. 0. 0. 1. 1. 0. 0. 0. 0. 1. 1. 0. 0. 2. 2. 0. 0. 0. 0.]\n",
      " [0. 0. 2. 2. 0. 0. 0. 0. 1. 1. 1. 1. 0. 0. 0. 0. 0. 0. 0. 0. 0. 0. 2. 2.]\n",
      " [0. 0. 2. 2. 0. 0. 0. 0. 1. 1. 1. 1. 0. 0. 0. 0. 0. 0. 0. 0. 0. 0. 2. 2.]\n",
      " [0. 0. 0. 0. 2. 2. 0. 0. 0. 0. 1. 1. 1. 1. 0. 0. 0. 0. 0. 0. 2. 2. 0. 0.]\n",
      " [0. 0. 0. 0. 2. 2. 0. 0. 0. 0. 1. 1. 1. 1. 0. 0. 0. 0. 0. 0. 2. 2. 0. 0.]\n",
      " [0. 0. 0. 0. 0. 0. 2. 2. 0. 0. 0. 0. 1. 1. 1. 1. 2. 2. 0. 0. 0. 0. 0. 0.]\n",
      " [0. 0. 0. 0. 0. 0. 2. 2. 0. 0. 0. 0. 1. 1. 1. 1. 2. 2. 0. 0. 0. 0. 0. 0.]\n",
      " [1. 1. 1. 1. 0. 0. 0. 0. 3. 3. 0. 0. 0. 0. 0. 0. 0. 0. 2. 2. 0. 0. 2. 2.]\n",
      " [1. 1. 1. 1. 0. 0. 0. 0. 3. 3. 0. 0. 0. 0. 0. 0. 0. 0. 2. 2. 0. 0. 2. 2.]\n",
      " [0. 0. 1. 1. 1. 1. 0. 0. 0. 0. 3. 3. 0. 0. 0. 0. 0. 0. 0. 0. 2. 2. 2. 2.]\n",
      " [0. 0. 1. 1. 1. 1. 0. 0. 0. 0. 3. 3. 0. 0. 0. 0. 0. 0. 0. 0. 2. 2. 2. 2.]\n",
      " [0. 0. 0. 0. 1. 1. 1. 1. 0. 0. 0. 0. 3. 3. 0. 0. 2. 2. 0. 0. 2. 2. 0. 0.]\n",
      " [0. 0. 0. 0. 1. 1. 1. 1. 0. 0. 0. 0. 3. 3. 0. 0. 2. 2. 0. 0. 2. 2. 0. 0.]\n",
      " [1. 1. 0. 0. 0. 0. 1. 1. 0. 0. 0. 0. 0. 0. 3. 3. 2. 2. 2. 2. 0. 0. 0. 0.]\n",
      " [1. 1. 0. 0. 0. 0. 1. 1. 0. 0. 0. 0. 0. 0. 3. 3. 2. 2. 2. 2. 0. 0. 0. 0.]\n",
      " [0. 0. 0. 0. 0. 0. 2. 2. 0. 0. 0. 0. 2. 2. 2. 2. 5. 5. 2. 2. 2. 2. 0. 0.]\n",
      " [0. 0. 0. 0. 0. 0. 2. 2. 0. 0. 0. 0. 2. 2. 2. 2. 5. 5. 2. 2. 2. 2. 0. 0.]\n",
      " [2. 2. 0. 0. 0. 0. 0. 0. 2. 2. 0. 0. 0. 0. 2. 2. 2. 2. 6. 6. 2. 2. 2. 2.]\n",
      " [2. 2. 0. 0. 0. 0. 0. 0. 2. 2. 0. 0. 0. 0. 2. 2. 2. 2. 6. 6. 2. 2. 2. 2.]\n",
      " [0. 0. 0. 0. 2. 2. 0. 0. 0. 0. 2. 2. 2. 2. 0. 0. 2. 2. 2. 2. 6. 6. 2. 2.]\n",
      " [0. 0. 0. 0. 2. 2. 0. 0. 0. 0. 2. 2. 2. 2. 0. 0. 2. 2. 2. 2. 6. 6. 2. 2.]\n",
      " [0. 0. 2. 2. 0. 0. 0. 0. 2. 2. 2. 2. 0. 0. 0. 0. 0. 0. 2. 2. 2. 2. 5. 5.]\n",
      " [0. 0. 2. 2. 0. 0. 0. 0. 2. 2. 2. 2. 0. 0. 0. 0. 0. 0. 2. 2. 2. 2. 5. 5.]]\n"
     ]
    }
   ],
   "source": [
    "for element in elements:\n",
    "    # 此处计算单元刚度矩阵，这里用全1矩阵代替\n",
    "    K_element=np.ones((6,6))\n",
    "    # 生成单元的全局指标索引\n",
    "    deform_global_index=np.array([[2*element[i],2*element[i]+1] for i in range(3)],dtype=np.uint64).reshape(-1)\n",
    "    # 生成索引的外积，并按索引将局部刚度矩阵的值填入总体刚度矩阵\n",
    "    for i_local,i_global in enumerate(deform_global_index):\n",
    "        for j_local,j_global in enumerate(deform_global_index):\n",
    "            K[i_global,j_global]+=K_element[i_local,j_local]\n",
    "print(f'K = \\n{K}')"
   ]
  }
 ],
 "metadata": {
  "interpreter": {
   "hash": "6b7fcde512a371fc80168da418ac10d3d117615124c98713c183be837caaa7d9"
  },
  "kernelspec": {
   "display_name": "Python 3.9.7 64-bit ('torch': conda)",
   "name": "python3"
  },
  "language_info": {
   "codemirror_mode": {
    "name": "ipython",
    "version": 3
   },
   "file_extension": ".py",
   "mimetype": "text/x-python",
   "name": "python",
   "nbconvert_exporter": "python",
   "pygments_lexer": "ipython3",
   "version": "3.9.7"
  },
  "orig_nbformat": 4
 },
 "nbformat": 4,
 "nbformat_minor": 2
}
