{
 "cells": [
  {
   "cell_type": "markdown",
   "metadata": {},
   "source": [
    "# 单元刚度矩阵"
   ]
  },
  {
   "cell_type": "markdown",
   "metadata": {},
   "source": [
    "三个节点坐标分别为 $x_0,y_0,x_1,y_1,x_2,y_2$ ，记作 $\\mathbf{P}^e=[x_0,y_0,x_1,y_1,x_2,y_2]^T$ ；\n",
    "\n",
    "三个节点位移分别为 $u_0,v_0,u_1,v_1,u_2,v_2$ ，记作 $\\mathbf{A}^e=[u_0,v_0,u_1,v_1,u_2,v_2]^T$ 。\n",
    "\n",
    "设单元任意点坐标为 $\\mathbf{x}=[x,y]^T$ ，单元任意点位移为 $\\mathbf{u}=[u,v]^T$ 。"
   ]
  },
  {
   "cell_type": "markdown",
   "metadata": {},
   "source": [
    "二倍单元面积为\n",
    "$$\n",
    "\\Delta=\\begin{vmatrix}\n",
    "1 & x_0 & y_0 \\\\\n",
    "1 & x_1 & y_1 \\\\\n",
    "1 & x_2 & y_2\n",
    "\\end{vmatrix}\n",
    "$$\n",
    "设型函数为\n",
    "$$\n",
    "S_0=\\frac{1}{\\Delta}\n",
    "\\begin{vmatrix}\n",
    "1 & x   & y   \\\\\n",
    "1 & x_1 & y_1 \\\\\n",
    "1 & x_2 & y_2\n",
    "\\end{vmatrix}\n",
    "\\quad\n",
    "S_1=\\frac{1}{\\Delta}\n",
    "\\begin{vmatrix}\n",
    "1 & x   & y   \\\\\n",
    "1 & x_2 & y_2 \\\\\n",
    "1 & x_0 & y_0\n",
    "\\end{vmatrix}\n",
    "\\quad\n",
    "S_2=\\frac{1}{\\Delta}\n",
    "\\begin{vmatrix}\n",
    "1 & x   & y   \\\\\n",
    "1 & x_0 & y_0 \\\\\n",
    "1 & x_1 & y_1\n",
    "\\end{vmatrix}\n",
    "$$\n",
    "定义位置矩阵 $\\mathbf{S}$\n",
    "$$\n",
    "\\mathbf{S}=\\begin{bmatrix}\n",
    "S_0 &  0  & S_1 &  0  & S_2 &  0  \\\\\n",
    " 0  & S_0 &  0  & S_1 &  0  & S_2\n",
    "\\end{bmatrix}\n",
    "$$\n",
    "因\n",
    "$$\n",
    "\\mathbf{x}=\\mathbf{S} \\mathbf{P}^e\n",
    "$$\n",
    "单元中任意点的位移为\n",
    "$$\n",
    "\\mathbf{u}=\\mathbf{S} \\mathbf{P}^e\n",
    "$$"
   ]
  },
  {
   "cell_type": "markdown",
   "metadata": {},
   "source": [
    "应变定义为\n",
    "$$\n",
    "\\varepsilon=\\frac{1}{2}\\big[\\nabla_\\mathbf{x} \\mathbf{u}+(\\nabla_\\mathbf{x} \\mathbf{u})^T\\big]\n",
    "$$\n",
    "由于应变只有三个独立分量，所以定义工程应变（向量）为\n",
    "$$\n",
    "\\epsilon=\\begin{bmatrix}\n",
    "\\varepsilon_{11}\\\\\n",
    "\\varepsilon_{22}\\\\\n",
    "\\varepsilon_{12}+\\varepsilon_{21}\n",
    "\\end{bmatrix}\n",
    "$$\n",
    "所以工程应变和位移的关系为\n",
    "$$\n",
    "\\epsilon=\\begin{bmatrix}\n",
    "\\frac{\\partial u}{\\partial x}\\\\\n",
    "\\frac{\\partial v}{\\partial y}\\\\\n",
    "\\frac{\\partial v}{\\partial x}+\\frac{\\partial u}{\\partial y}\n",
    "\\end{bmatrix}\n",
    "$$\n",
    "定义\n",
    "$$\n",
    "\\mathbf{L}=\\begin{bmatrix}\n",
    "\\frac{\\partial}{\\partial x} &              0              \\\\\n",
    "             0              & \\frac{\\partial}{\\partial y} \\\\\n",
    "\\frac{\\partial}{\\partial x} & \\frac{\\partial}{\\partial y}\n",
    "\\end{bmatrix}\n",
    "$$\n",
    "则\n",
    "$$\n",
    "\\epsilon=\\begin{bmatrix}\n",
    "\\frac{\\partial}{\\partial x} &              0              \\\\\n",
    "             0              & \\frac{\\partial}{\\partial y} \\\\\n",
    "\\frac{\\partial}{\\partial x} & \\frac{\\partial}{\\partial y}\n",
    "\\end{bmatrix}\n",
    "\\begin{bmatrix}\n",
    "u\\\\\n",
    "v\n",
    "\\end{bmatrix}\n",
    "=\\mathbf{L}\\mathbf{u}\n",
    "=\\mathbf{L}(\\mathbf{S}\\mathbf{P}^e)\n",
    "=(\\mathbf{L}\\mathbf{S})\\mathbf{P}^e\n",
    "$$\n",
    "定义\n",
    "$$\n",
    "\\mathbf{B}=\\mathbf{L}\\mathbf{S}\n",
    "=\\frac{1}{\\Delta}\n",
    "\\begin{bmatrix}\n",
    "y_1-y_2 &    0    & y_2-y_0 &    0    & y_0-y_1 &    0    \\\\\n",
    "   0    & x_2-x_1 &    0    & x_0-x_2 &    0    & x_1-x_0 \\\\\n",
    "x_2-x_1 & y_1-y_2 & x_0-x_2 & y_2-y_0 & x_1-x_0 & y_0-y_1  \n",
    "\\end{bmatrix}\n",
    "$$\n",
    "则\n",
    "$$\n",
    "\\epsilon=\\mathbf{B}\\mathbf{A}^e\n",
    "$$"
   ]
  },
  {
   "cell_type": "markdown",
   "metadata": {},
   "source": [
    "线性本构方程定义为\n",
    "$$\n",
    "\\sigma=\\mathbf{D}\\epsilon\n",
    "$$"
   ]
  },
  {
   "cell_type": "markdown",
   "metadata": {},
   "source": [
    "弹性变形能为\n",
    "$$\n",
    "\\Psi=\\frac{1}{2}\\int_{\\mathrm{element}}t\\sigma^T\\epsilon ds=\\frac{1}{2}\\int_{\\mathrm{element}}t\\mathbf{A}^{eT}\\mathbf{B}^T\\mathbf{D}\\mathbf{B}\\mathbf{A}^e ds=\\frac{1}{2}\\mathbf{A}^{eT} \\left( \\int_{\\mathrm{element}}t\\mathbf{B}^T\\mathbf{D}\\mathbf{B} ds \\right) \\mathbf{A}^e\n",
    "$$\n",
    "定义单元刚度矩阵\n",
    "$$\n",
    "\\mathbf{K}^e=\\int_{\\mathrm{element}}t\\mathbf{B}^T\\mathbf{D}\\mathbf{B}ds=t\\Delta\\mathbf{B}^T\\mathbf{D}\\mathbf{B}\n",
    "$$\n",
    "所以\n",
    "$$\n",
    "\\Psi=\\frac{1}{2}\\mathbf{A}^{eT}\\mathbf{K}^e\\mathbf{A}^e\n",
    "$$"
   ]
  },
  {
   "cell_type": "markdown",
   "metadata": {},
   "source": [
    "根据虚功原理\n",
    "$$\n",
    "\\delta\\Psi-(\\delta\\mathbf{A}^e)^T\\mathbf{F}^e=(\\delta\\mathbf{A}^e)^T\\mathbf{K}^e\\mathbf{A}^e-(\\delta\\mathbf{A}^e)^T\\mathbf{F}^e\n",
    "$$\n",
    "由于 $\\delta\\mathbf{A}^e$ 的任意性，可以将其消去\n",
    "$$\n",
    "\\mathbf{K}^e\\mathbf{A}^e=\\mathbf{F}^e\n",
    "$$\n",
    "即得到了单元的有限元方程。"
   ]
  },
  {
   "cell_type": "code",
   "execution_count": 1,
   "metadata": {},
   "outputs": [],
   "source": [
    "import numpy as np"
   ]
  },
  {
   "cell_type": "markdown",
   "metadata": {},
   "source": [
    "下面看一个单元刚度矩阵的例子，假设三角形单元的三个节点为"
   ]
  },
  {
   "cell_type": "code",
   "execution_count": 2,
   "metadata": {},
   "outputs": [],
   "source": [
    "x0,y0=0.0,0.0\n",
    "x1,y1=0.0,1.0\n",
    "x2,y2=1.0,0.0"
   ]
  },
  {
   "cell_type": "markdown",
   "metadata": {},
   "source": [
    "首先求出二倍面积"
   ]
  },
  {
   "cell_type": "code",
   "execution_count": 3,
   "metadata": {},
   "outputs": [
    {
     "name": "stdout",
     "output_type": "stream",
     "text": [
      "area_2 = 1.000000\n"
     ]
    }
   ],
   "source": [
    "matrix=np.array([\n",
    "    [1.0,x0,y0], \n",
    "    [1.0,x1,y1], \n",
    "    [1.0,x2,y2]])\n",
    "det=np.linalg.det(matrix)\n",
    "area_2=abs(det)\n",
    "print('area_2 = %f'%area_2)"
   ]
  },
  {
   "cell_type": "markdown",
   "metadata": {},
   "source": [
    "接下来求出 B 矩阵"
   ]
  },
  {
   "cell_type": "code",
   "execution_count": 4,
   "metadata": {},
   "outputs": [
    {
     "data": {
      "text/plain": [
       "array([[ 1.,  0.,  0.,  0., -1.,  0.],\n",
       "       [ 0.,  1.,  0., -1.,  0.,  0.],\n",
       "       [ 1.,  1., -1.,  0.,  0., -1.]])"
      ]
     },
     "execution_count": 4,
     "metadata": {},
     "output_type": "execute_result"
    }
   ],
   "source": [
    "B=1/area_2*np.array([\n",
    "    [y1-y2,0.0,y2-y0,0.0,y0-y1,0.0], \n",
    "    [0.0,x2-x1,0.0,x0-x2,0.0,x1-x0], \n",
    "    [x2-x1,y1-y2,x0-x2,y2-y0,x1-x0,y0-y1]])\n",
    "B"
   ]
  },
  {
   "cell_type": "markdown",
   "metadata": {},
   "source": [
    "为了计算单元刚度矩阵，首先定义本构矩阵"
   ]
  },
  {
   "cell_type": "code",
   "execution_count": 5,
   "metadata": {},
   "outputs": [
    {
     "data": {
      "text/plain": [
       "array([[13.46153846,  5.76923077,  0.        ],\n",
       "       [ 5.76923077, 13.46153846,  0.        ],\n",
       "       [ 0.        ,  0.        ,  3.84615385]])"
      ]
     },
     "execution_count": 5,
     "metadata": {},
     "output_type": "execute_result"
    }
   ],
   "source": [
    "E=10.0\n",
    "nv=0.3\n",
    "D=E/((1.0+nv)*(1.0-2*nv))*np.array([\n",
    "    [1.0-nv,nv,0.0], \n",
    "    [nv,1.0-nv,0.0], \n",
    "    [0.0,0.0,0.5-nv]])\n",
    "D"
   ]
  },
  {
   "cell_type": "code",
   "execution_count": 6,
   "metadata": {},
   "outputs": [
    {
     "data": {
      "text/plain": [
       "array([[ 17.30769231,   9.61538462,  -3.84615385,  -5.76923077,\n",
       "        -13.46153846,  -3.84615385],\n",
       "       [  9.61538462,  17.30769231,  -3.84615385, -13.46153846,\n",
       "         -5.76923077,  -3.84615385],\n",
       "       [ -3.84615385,  -3.84615385,   3.84615385,   0.        ,\n",
       "          0.        ,   3.84615385],\n",
       "       [ -5.76923077, -13.46153846,   0.        ,  13.46153846,\n",
       "          5.76923077,   0.        ],\n",
       "       [-13.46153846,  -5.76923077,   0.        ,   5.76923077,\n",
       "         13.46153846,   0.        ],\n",
       "       [ -3.84615385,  -3.84615385,   3.84615385,   0.        ,\n",
       "          0.        ,   3.84615385]])"
      ]
     },
     "execution_count": 6,
     "metadata": {},
     "output_type": "execute_result"
    }
   ],
   "source": [
    "K_element=area_2*B.T@D@B\n",
    "K_element"
   ]
  }
 ],
 "metadata": {
  "interpreter": {
   "hash": "6b7fcde512a371fc80168da418ac10d3d117615124c98713c183be837caaa7d9"
  },
  "kernelspec": {
   "display_name": "Python 3.9.7 64-bit ('torch': conda)",
   "name": "python3"
  },
  "language_info": {
   "codemirror_mode": {
    "name": "ipython",
    "version": 3
   },
   "file_extension": ".py",
   "mimetype": "text/x-python",
   "name": "python",
   "nbconvert_exporter": "python",
   "pygments_lexer": "ipython3",
   "version": "3.9.7"
  },
  "orig_nbformat": 4
 },
 "nbformat": 4,
 "nbformat_minor": 2
}
